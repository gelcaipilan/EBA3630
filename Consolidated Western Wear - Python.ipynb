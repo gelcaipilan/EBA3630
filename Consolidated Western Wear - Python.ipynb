{
 "cells": [
  {
   "cell_type": "markdown",
   "id": "635a8008",
   "metadata": {},
   "source": [
    "# Consolidated Western Wear Retailers: Regression Analysis to Understand Cost Drivers in a Purchasing Department"
   ]
  },
  {
   "cell_type": "markdown",
   "id": "63933a8f",
   "metadata": {},
   "source": [
    "based on the case study by Seargeant, A. M. A. 2017. IMA Educational Case Journal, 10 (4), pp. 1-3."
   ]
  },
  {
   "cell_type": "markdown",
   "id": "8f616213",
   "metadata": {},
   "source": [
    "## Table of Contents\n",
    "* [Introduction](#Introduction)\n",
    "* [The Problem](#The-Problem)\n",
    "* [Requirements](#Requirements)\n",
    "* [Import Modules and Data](#Import-Modules-and-Data)\n",
    "* [Statistical Analysis of the Costs](#Statistical-Analysis-of-the-Costs)\n",
    " * [Scatter Plots](#Scatter-Plots)\n",
    " * [Exclude Unusual Events](#Exclude-Unusual-Events)\n",
    " * [Regression Analysis](#Regression-Analysis)\n",
    " * [Choice of the Best Model](#Choice-of-the-Best-Model)\n",
    " * [Meaning of the Model from an Economic Perspective](#Meaning-of-the-Model-from-an-Economic-Perspective)\n",
    "* [Recommendations](#Recommendations)\n",
    " * [Number of Suppliers](#Number-of-Suppliers)\n",
    " * [Number of Purchase Orders](#Number-of-Purchase-Orders)"
   ]
  },
  {
   "cell_type": "markdown",
   "id": "9f1d1f66",
   "metadata": {},
   "source": [
    "## Introduction"
   ]
  },
  {
   "cell_type": "markdown",
   "id": "ac309dca",
   "metadata": {},
   "source": [
    "Dan’s Western Wear began its humble roots on Main Street\n",
    "in Sheridan, Wyoming, where Thomas George, a Greek\n",
    "immigrant, settled his family in 1919 and began a cobbler\n",
    "business that served ranchers, cowboys, and coal miners. Dan\n",
    "George, Thomas’ son, was nine years old when they arrived\n",
    "in the United States and was soon active in his father’s\n",
    "cobbler business. Ultimately, he took over the business and\n",
    "began to increase the store’s inventory, creating the business\n",
    "that is known today as Dan’s Western Wear, which sells\n",
    "quality boots, work clothes, western apparel, and jewelry to\n",
    "just about anybody. Dan believes that if clothes can hold up\n",
    "to a dusty hard day’s work, and look great at the same time,\n",
    "all the better. The company prides itself on quality clothes\n",
    "with good old-fashioned service. Customers are greeted at\n",
    "the door and helped throughout their experience. A visit to\n",
    "Dan’s Western Wear is like a visit to an old friend.\n",
    "\n",
    "Dan’s Western Wear is typical of western wear retail\n",
    "outlets. The industry is characterized by many independent\n",
    "regional shops. Frequently, these retail shops have been\n",
    "in operation for many years and have a multigenerational,\n",
    "loyal customer base. Recently, the online western wear\n",
    "business has shown some growth, but customers are\n",
    "primarily interested in face-to-face shopping where they\n",
    "can feel the products, try them on, and visit with locals who\n",
    "share their interests. Because these specialty retail outlets\n",
    "have relatively little competition from online and discount\n",
    "retailers, western wear stores have enjoyed relatively high\n",
    "profit margins for retail businesses. If managed well, these\n",
    "can be profitable stores.\n",
    "\n",
    "Joe West, a young entrepreneur who had worked at\n",
    "Dan’s Western Wear prior to going to graduate school for a\n",
    "master’s in business administration, saw an opportunity to\n",
    "consolidate western wear retail outlets to gain efficiencies.\n",
    "Thus, he founded Consolidated Western Wear Retailers\n",
    "(CWWR) and began purchasing profitable western wear\n",
    "stores, starting with Dan’s Western Wear. He also assembled\n",
    "a management team to help him grow his business. As a\n",
    "new store is purchased, Joe and the management team study\n",
    "the store to learn how it is successful. Initially, they do not\n",
    "make major changes, keeping the same store name and\n",
    "encouraging the store to operate as before. Over time, Joe\n",
    "and the management team implement changes to improve\n",
    "profitability. Currently, CWWR owns 21 retail stores, and\n",
    "Joe believes this is large enough to aggressively pursue\n",
    "efficiencies from consolidation."
   ]
  },
  {
   "cell_type": "markdown",
   "id": "eb9fdb01",
   "metadata": {},
   "source": [
    "[[Back to TOC]](#Table-of-Contents)"
   ]
  },
  {
   "cell_type": "markdown",
   "id": "a48ef129",
   "metadata": {},
   "source": [
    "## The Problem"
   ]
  },
  {
   "cell_type": "markdown",
   "id": "29a959e0",
   "metadata": {},
   "source": [
    "Each year Joe reviews the financial information for all the CWWR stores. This past year was a relatively good year; company profits were up despite the huge July Fourth fire in Las Vegas, Nevada, that shut down the store for four months and required replacement of all the inventory. Joe did notice, however, that purchasing department costs varied considerably between stores. The minimum was 575,000 USD, and the maximum was 2.2 million USD. This was perplexing, and he thought this might be an area where efficiencies could be achieved. Currently, each store has its own purchasing department with full autonomy. In the western wear industry, regional customers have regional tastes and desires. Local purchasing agents are thought to be best able to understand the desires of local customers and to meet those needs.\n",
    "\n",
    "On his management team, Joe has a managerial cost specialist with skills in data analytics. Together they discussed the purchasing department cost problem and identified three potential cost drivers: merchandise purchased, number of purchase orders, and number of suppliers. To verify these ideas, Joe contacted purchasing managers from three different stores who agreed that these were potentially good cost drivers and that no others were readily apparent. The managerial cost specialist gathered data for the four variables from last year’s financial information. The Excel-file 'Consolidated Western Wear Retailers Data.xlsx' contains the data."
   ]
  },
  {
   "cell_type": "markdown",
   "id": "9ad22cc5",
   "metadata": {},
   "source": [
    "[[Back to TOC]](#Table-of-Contents)"
   ]
  },
  {
   "cell_type": "markdown",
   "id": "63c20fe5",
   "metadata": {},
   "source": [
    "## Requirements"
   ]
  },
  {
   "cell_type": "markdown",
   "id": "27a66663",
   "metadata": {},
   "source": [
    "Joe asked you, the managerial cost specialist on his management team, to examine the data and to recommend some courses of action to reduce purchasing department costs. Use the following requirements as a guide:\n",
    "\n",
    "**Prepare a statistical analysis of the costs provided:**\n",
    "\n",
    "1. Plot the purchasing department cost vs. each cost driver.\n",
    "2. Analyze the data for potential problems, correct data problems if necessary, and report any changes made.\n",
    "3. Use regression analysis to develop cost models for all potential cost drivers.\n",
    "4. Identify the best model, and explain why.\n",
    "5. Explain what the model means from an economic perspective.\n",
    "\n",
    "**Use the model to make two recommendations to the CWWR management team for improving the efficiency of purchasing operations:**\n",
    "\n",
    "6. Be specific with details of the recommendations.\n",
    "7. Estimate the cost savings from the implementation of your recommendations.\n",
    "8. Consider secondary implications, quantitative and/or qualitative.\n",
    "9. Indicate how these changes (recommendations) should be implemented."
   ]
  },
  {
   "cell_type": "markdown",
   "id": "ac323723",
   "metadata": {},
   "source": [
    "[[Back to TOC]](#Table-of-Contents)"
   ]
  },
  {
   "cell_type": "markdown",
   "id": "6cd1915f",
   "metadata": {},
   "source": [
    "## Import Modules and Data"
   ]
  },
  {
   "cell_type": "code",
   "execution_count": 1,
   "id": "3f3c10ec",
   "metadata": {},
   "outputs": [],
   "source": [
    "import statsmodels.formula.api as smf \n",
    "import pandas as pd\n",
    "import plotly.graph_objects as go\n",
    "from plotly.subplots import make_subplots\n",
    "import numpy as np"
   ]
  },
  {
   "cell_type": "code",
   "execution_count": 5,
   "id": "7752c26c",
   "metadata": {},
   "outputs": [
    {
     "data": {
      "text/html": [
       "<div>\n",
       "<style scoped>\n",
       "    .dataframe tbody tr th:only-of-type {\n",
       "        vertical-align: middle;\n",
       "    }\n",
       "\n",
       "    .dataframe tbody tr th {\n",
       "        vertical-align: top;\n",
       "    }\n",
       "\n",
       "    .dataframe thead th {\n",
       "        text-align: right;\n",
       "    }\n",
       "</style>\n",
       "<table border=\"1\" class=\"dataframe\">\n",
       "  <thead>\n",
       "    <tr style=\"text-align: right;\">\n",
       "      <th></th>\n",
       "      <th>StoreLocation</th>\n",
       "      <th>PurchasingDeptCost</th>\n",
       "      <th>MerchandisePurchased</th>\n",
       "      <th>PurchaseOrders</th>\n",
       "      <th>Suppliers</th>\n",
       "    </tr>\n",
       "  </thead>\n",
       "  <tbody>\n",
       "    <tr>\n",
       "      <th>0</th>\n",
       "      <td>Sheridan, WY</td>\n",
       "      <td>575000</td>\n",
       "      <td>47239000</td>\n",
       "      <td>1708</td>\n",
       "      <td>61</td>\n",
       "    </tr>\n",
       "    <tr>\n",
       "      <th>1</th>\n",
       "      <td>Denver</td>\n",
       "      <td>1226000</td>\n",
       "      <td>102364000</td>\n",
       "      <td>2519</td>\n",
       "      <td>95</td>\n",
       "    </tr>\n",
       "    <tr>\n",
       "      <th>2</th>\n",
       "      <td>Salt Lake City</td>\n",
       "      <td>1710000</td>\n",
       "      <td>100162000</td>\n",
       "      <td>2506</td>\n",
       "      <td>139</td>\n",
       "    </tr>\n",
       "    <tr>\n",
       "      <th>3</th>\n",
       "      <td>Kansas City</td>\n",
       "      <td>881000</td>\n",
       "      <td>95760000</td>\n",
       "      <td>1719</td>\n",
       "      <td>91</td>\n",
       "    </tr>\n",
       "    <tr>\n",
       "      <th>4</th>\n",
       "      <td>Omaha</td>\n",
       "      <td>1544000</td>\n",
       "      <td>51466000</td>\n",
       "      <td>2883</td>\n",
       "      <td>155</td>\n",
       "    </tr>\n",
       "    <tr>\n",
       "      <th>5</th>\n",
       "      <td>Milwaukee</td>\n",
       "      <td>794000</td>\n",
       "      <td>50631000</td>\n",
       "      <td>647</td>\n",
       "      <td>75</td>\n",
       "    </tr>\n",
       "    <tr>\n",
       "      <th>6</th>\n",
       "      <td>Minneapolis</td>\n",
       "      <td>1341000</td>\n",
       "      <td>84753000</td>\n",
       "      <td>2978</td>\n",
       "      <td>103</td>\n",
       "    </tr>\n",
       "    <tr>\n",
       "      <th>7</th>\n",
       "      <td>Phoenix</td>\n",
       "      <td>794000</td>\n",
       "      <td>103464000</td>\n",
       "      <td>3761</td>\n",
       "      <td>117</td>\n",
       "    </tr>\n",
       "    <tr>\n",
       "      <th>8</th>\n",
       "      <td>Las Vegas</td>\n",
       "      <td>2216000</td>\n",
       "      <td>96162000</td>\n",
       "      <td>2584</td>\n",
       "      <td>73</td>\n",
       "    </tr>\n",
       "    <tr>\n",
       "      <th>9</th>\n",
       "      <td>Albuquerque</td>\n",
       "      <td>2030000</td>\n",
       "      <td>62364000</td>\n",
       "      <td>5497</td>\n",
       "      <td>176</td>\n",
       "    </tr>\n",
       "  </tbody>\n",
       "</table>\n",
       "</div>"
      ],
      "text/plain": [
       "    StoreLocation  PurchasingDeptCost  MerchandisePurchased  PurchaseOrders  \\\n",
       "0    Sheridan, WY              575000              47239000            1708   \n",
       "1          Denver             1226000             102364000            2519   \n",
       "2  Salt Lake City             1710000             100162000            2506   \n",
       "3     Kansas City              881000              95760000            1719   \n",
       "4           Omaha             1544000              51466000            2883   \n",
       "5       Milwaukee              794000              50631000             647   \n",
       "6     Minneapolis             1341000              84753000            2978   \n",
       "7         Phoenix              794000             103464000            3761   \n",
       "8       Las Vegas             2216000              96162000            2584   \n",
       "9     Albuquerque             2030000              62364000            5497   \n",
       "\n",
       "   Suppliers  \n",
       "0         61  \n",
       "1         95  \n",
       "2        139  \n",
       "3         91  \n",
       "4        155  \n",
       "5         75  \n",
       "6        103  \n",
       "7        117  \n",
       "8         73  \n",
       "9        176  "
      ]
     },
     "execution_count": 5,
     "metadata": {},
     "output_type": "execute_result"
    }
   ],
   "source": [
    "df = pd.read_excel(r'Consolidated Western Wear Retailers Data.xlsx')\n",
    "df.head(10)\n",
    "\n",
    "#Merchandise Purchase: Each item you order\n",
    "#Purchase orders: How often you orders? "
   ]
  },
  {
   "cell_type": "markdown",
   "id": "1427d314",
   "metadata": {},
   "source": [
    "[[Back to TOC]](#Table-of-Contents)"
   ]
  },
  {
   "cell_type": "markdown",
   "id": "5fe9235d",
   "metadata": {},
   "source": [
    "## Statistical Analysis of the Costs"
   ]
  },
  {
   "cell_type": "markdown",
   "id": "ba018675",
   "metadata": {},
   "source": [
    "### Scatter Plots"
   ]
  },
  {
   "cell_type": "code",
   "execution_count": 6,
   "id": "95333f07",
   "metadata": {},
   "outputs": [
    {
     "data": {
      "application/vnd.plotly.v1+json": {
       "config": {
        "plotlyServerURL": "https://plot.ly"
       },
       "data": [
        {
         "mode": "markers",
         "text": [
          "Sheridan, WY",
          "Denver",
          "Salt Lake City",
          "Kansas City",
          "Omaha",
          "Milwaukee",
          "Minneapolis",
          "Phoenix",
          "Las Vegas",
          "Albuquerque",
          "Tucson",
          "Houston",
          "Oklahoma City",
          "Tulsa",
          "Dallas",
          "San Antonio",
          "Austin",
          "El Paso",
          "Nashville",
          "Memphis",
          "Indianapolis"
         ],
         "type": "scatter",
         "x": [
          47239000,
          102364000,
          100162000,
          95760000,
          51466000,
          50631000,
          84753000,
          103464000,
          96162000,
          62364000,
          65635000,
          88524000,
          72645000,
          61638000,
          105666000,
          59437000,
          38542000,
          33020000,
          36322000,
          34121000,
          31920000
         ],
         "xaxis": "x",
         "y": [
          575000,
          1226000,
          1710000,
          881000,
          1544000,
          794000,
          1341000,
          794000,
          2216000,
          2030000,
          1338000,
          856000,
          1122000,
          863000,
          1085000,
          952000,
          1134000,
          1042000,
          1634000,
          699000,
          875000
         ],
         "yaxis": "y"
        },
        {
         "mode": "markers",
         "text": [
          "Sheridan, WY",
          "Denver",
          "Salt Lake City",
          "Kansas City",
          "Omaha",
          "Milwaukee",
          "Minneapolis",
          "Phoenix",
          "Las Vegas",
          "Albuquerque",
          "Tucson",
          "Houston",
          "Oklahoma City",
          "Tulsa",
          "Dallas",
          "San Antonio",
          "Austin",
          "El Paso",
          "Nashville",
          "Memphis",
          "Indianapolis"
         ],
         "type": "scatter",
         "x": [
          1708,
          2519,
          2506,
          1719,
          2883,
          647,
          2978,
          3761,
          2584,
          5497,
          4347,
          2878,
          819,
          1247,
          2162,
          2822,
          5115,
          382,
          5293,
          967,
          2425
         ],
         "xaxis": "x2",
         "y": [
          575000,
          1226000,
          1710000,
          881000,
          1544000,
          794000,
          1341000,
          794000,
          2216000,
          2030000,
          1338000,
          856000,
          1122000,
          863000,
          1085000,
          952000,
          1134000,
          1042000,
          1634000,
          699000,
          875000
         ],
         "yaxis": "y2"
        },
        {
         "mode": "markers",
         "text": [
          "Sheridan, WY",
          "Denver",
          "Salt Lake City",
          "Kansas City",
          "Omaha",
          "Milwaukee",
          "Minneapolis",
          "Phoenix",
          "Las Vegas",
          "Albuquerque",
          "Tucson",
          "Houston",
          "Oklahoma City",
          "Tulsa",
          "Dallas",
          "San Antonio",
          "Austin",
          "El Paso",
          "Nashville",
          "Memphis",
          "Indianapolis"
         ],
         "type": "scatter",
         "x": [
          61,
          95,
          139,
          91,
          155,
          75,
          103,
          117,
          73,
          176,
          130,
          62,
          129,
          145,
          141,
          105,
          51,
          131,
          172,
          34,
          48
         ],
         "xaxis": "x3",
         "y": [
          575000,
          1226000,
          1710000,
          881000,
          1544000,
          794000,
          1341000,
          794000,
          2216000,
          2030000,
          1338000,
          856000,
          1122000,
          863000,
          1085000,
          952000,
          1134000,
          1042000,
          1634000,
          699000,
          875000
         ],
         "yaxis": "y3"
        }
       ],
       "layout": {
        "height": 800,
        "showlegend": false,
        "template": {
         "data": {
          "bar": [
           {
            "error_x": {
             "color": "#2a3f5f"
            },
            "error_y": {
             "color": "#2a3f5f"
            },
            "marker": {
             "line": {
              "color": "#E5ECF6",
              "width": 0.5
             }
            },
            "type": "bar"
           }
          ],
          "barpolar": [
           {
            "marker": {
             "line": {
              "color": "#E5ECF6",
              "width": 0.5
             }
            },
            "type": "barpolar"
           }
          ],
          "carpet": [
           {
            "aaxis": {
             "endlinecolor": "#2a3f5f",
             "gridcolor": "white",
             "linecolor": "white",
             "minorgridcolor": "white",
             "startlinecolor": "#2a3f5f"
            },
            "baxis": {
             "endlinecolor": "#2a3f5f",
             "gridcolor": "white",
             "linecolor": "white",
             "minorgridcolor": "white",
             "startlinecolor": "#2a3f5f"
            },
            "type": "carpet"
           }
          ],
          "choropleth": [
           {
            "colorbar": {
             "outlinewidth": 0,
             "ticks": ""
            },
            "type": "choropleth"
           }
          ],
          "contour": [
           {
            "colorbar": {
             "outlinewidth": 0,
             "ticks": ""
            },
            "colorscale": [
             [
              0,
              "#0d0887"
             ],
             [
              0.1111111111111111,
              "#46039f"
             ],
             [
              0.2222222222222222,
              "#7201a8"
             ],
             [
              0.3333333333333333,
              "#9c179e"
             ],
             [
              0.4444444444444444,
              "#bd3786"
             ],
             [
              0.5555555555555556,
              "#d8576b"
             ],
             [
              0.6666666666666666,
              "#ed7953"
             ],
             [
              0.7777777777777778,
              "#fb9f3a"
             ],
             [
              0.8888888888888888,
              "#fdca26"
             ],
             [
              1,
              "#f0f921"
             ]
            ],
            "type": "contour"
           }
          ],
          "contourcarpet": [
           {
            "colorbar": {
             "outlinewidth": 0,
             "ticks": ""
            },
            "type": "contourcarpet"
           }
          ],
          "heatmap": [
           {
            "colorbar": {
             "outlinewidth": 0,
             "ticks": ""
            },
            "colorscale": [
             [
              0,
              "#0d0887"
             ],
             [
              0.1111111111111111,
              "#46039f"
             ],
             [
              0.2222222222222222,
              "#7201a8"
             ],
             [
              0.3333333333333333,
              "#9c179e"
             ],
             [
              0.4444444444444444,
              "#bd3786"
             ],
             [
              0.5555555555555556,
              "#d8576b"
             ],
             [
              0.6666666666666666,
              "#ed7953"
             ],
             [
              0.7777777777777778,
              "#fb9f3a"
             ],
             [
              0.8888888888888888,
              "#fdca26"
             ],
             [
              1,
              "#f0f921"
             ]
            ],
            "type": "heatmap"
           }
          ],
          "heatmapgl": [
           {
            "colorbar": {
             "outlinewidth": 0,
             "ticks": ""
            },
            "colorscale": [
             [
              0,
              "#0d0887"
             ],
             [
              0.1111111111111111,
              "#46039f"
             ],
             [
              0.2222222222222222,
              "#7201a8"
             ],
             [
              0.3333333333333333,
              "#9c179e"
             ],
             [
              0.4444444444444444,
              "#bd3786"
             ],
             [
              0.5555555555555556,
              "#d8576b"
             ],
             [
              0.6666666666666666,
              "#ed7953"
             ],
             [
              0.7777777777777778,
              "#fb9f3a"
             ],
             [
              0.8888888888888888,
              "#fdca26"
             ],
             [
              1,
              "#f0f921"
             ]
            ],
            "type": "heatmapgl"
           }
          ],
          "histogram": [
           {
            "marker": {
             "colorbar": {
              "outlinewidth": 0,
              "ticks": ""
             }
            },
            "type": "histogram"
           }
          ],
          "histogram2d": [
           {
            "colorbar": {
             "outlinewidth": 0,
             "ticks": ""
            },
            "colorscale": [
             [
              0,
              "#0d0887"
             ],
             [
              0.1111111111111111,
              "#46039f"
             ],
             [
              0.2222222222222222,
              "#7201a8"
             ],
             [
              0.3333333333333333,
              "#9c179e"
             ],
             [
              0.4444444444444444,
              "#bd3786"
             ],
             [
              0.5555555555555556,
              "#d8576b"
             ],
             [
              0.6666666666666666,
              "#ed7953"
             ],
             [
              0.7777777777777778,
              "#fb9f3a"
             ],
             [
              0.8888888888888888,
              "#fdca26"
             ],
             [
              1,
              "#f0f921"
             ]
            ],
            "type": "histogram2d"
           }
          ],
          "histogram2dcontour": [
           {
            "colorbar": {
             "outlinewidth": 0,
             "ticks": ""
            },
            "colorscale": [
             [
              0,
              "#0d0887"
             ],
             [
              0.1111111111111111,
              "#46039f"
             ],
             [
              0.2222222222222222,
              "#7201a8"
             ],
             [
              0.3333333333333333,
              "#9c179e"
             ],
             [
              0.4444444444444444,
              "#bd3786"
             ],
             [
              0.5555555555555556,
              "#d8576b"
             ],
             [
              0.6666666666666666,
              "#ed7953"
             ],
             [
              0.7777777777777778,
              "#fb9f3a"
             ],
             [
              0.8888888888888888,
              "#fdca26"
             ],
             [
              1,
              "#f0f921"
             ]
            ],
            "type": "histogram2dcontour"
           }
          ],
          "mesh3d": [
           {
            "colorbar": {
             "outlinewidth": 0,
             "ticks": ""
            },
            "type": "mesh3d"
           }
          ],
          "parcoords": [
           {
            "line": {
             "colorbar": {
              "outlinewidth": 0,
              "ticks": ""
             }
            },
            "type": "parcoords"
           }
          ],
          "pie": [
           {
            "automargin": true,
            "type": "pie"
           }
          ],
          "scatter": [
           {
            "marker": {
             "colorbar": {
              "outlinewidth": 0,
              "ticks": ""
             }
            },
            "type": "scatter"
           }
          ],
          "scatter3d": [
           {
            "line": {
             "colorbar": {
              "outlinewidth": 0,
              "ticks": ""
             }
            },
            "marker": {
             "colorbar": {
              "outlinewidth": 0,
              "ticks": ""
             }
            },
            "type": "scatter3d"
           }
          ],
          "scattercarpet": [
           {
            "marker": {
             "colorbar": {
              "outlinewidth": 0,
              "ticks": ""
             }
            },
            "type": "scattercarpet"
           }
          ],
          "scattergeo": [
           {
            "marker": {
             "colorbar": {
              "outlinewidth": 0,
              "ticks": ""
             }
            },
            "type": "scattergeo"
           }
          ],
          "scattergl": [
           {
            "marker": {
             "colorbar": {
              "outlinewidth": 0,
              "ticks": ""
             }
            },
            "type": "scattergl"
           }
          ],
          "scattermapbox": [
           {
            "marker": {
             "colorbar": {
              "outlinewidth": 0,
              "ticks": ""
             }
            },
            "type": "scattermapbox"
           }
          ],
          "scatterpolar": [
           {
            "marker": {
             "colorbar": {
              "outlinewidth": 0,
              "ticks": ""
             }
            },
            "type": "scatterpolar"
           }
          ],
          "scatterpolargl": [
           {
            "marker": {
             "colorbar": {
              "outlinewidth": 0,
              "ticks": ""
             }
            },
            "type": "scatterpolargl"
           }
          ],
          "scatterternary": [
           {
            "marker": {
             "colorbar": {
              "outlinewidth": 0,
              "ticks": ""
             }
            },
            "type": "scatterternary"
           }
          ],
          "surface": [
           {
            "colorbar": {
             "outlinewidth": 0,
             "ticks": ""
            },
            "colorscale": [
             [
              0,
              "#0d0887"
             ],
             [
              0.1111111111111111,
              "#46039f"
             ],
             [
              0.2222222222222222,
              "#7201a8"
             ],
             [
              0.3333333333333333,
              "#9c179e"
             ],
             [
              0.4444444444444444,
              "#bd3786"
             ],
             [
              0.5555555555555556,
              "#d8576b"
             ],
             [
              0.6666666666666666,
              "#ed7953"
             ],
             [
              0.7777777777777778,
              "#fb9f3a"
             ],
             [
              0.8888888888888888,
              "#fdca26"
             ],
             [
              1,
              "#f0f921"
             ]
            ],
            "type": "surface"
           }
          ],
          "table": [
           {
            "cells": {
             "fill": {
              "color": "#EBF0F8"
             },
             "line": {
              "color": "white"
             }
            },
            "header": {
             "fill": {
              "color": "#C8D4E3"
             },
             "line": {
              "color": "white"
             }
            },
            "type": "table"
           }
          ]
         },
         "layout": {
          "annotationdefaults": {
           "arrowcolor": "#2a3f5f",
           "arrowhead": 0,
           "arrowwidth": 1
          },
          "autotypenumbers": "strict",
          "coloraxis": {
           "colorbar": {
            "outlinewidth": 0,
            "ticks": ""
           }
          },
          "colorscale": {
           "diverging": [
            [
             0,
             "#8e0152"
            ],
            [
             0.1,
             "#c51b7d"
            ],
            [
             0.2,
             "#de77ae"
            ],
            [
             0.3,
             "#f1b6da"
            ],
            [
             0.4,
             "#fde0ef"
            ],
            [
             0.5,
             "#f7f7f7"
            ],
            [
             0.6,
             "#e6f5d0"
            ],
            [
             0.7,
             "#b8e186"
            ],
            [
             0.8,
             "#7fbc41"
            ],
            [
             0.9,
             "#4d9221"
            ],
            [
             1,
             "#276419"
            ]
           ],
           "sequential": [
            [
             0,
             "#0d0887"
            ],
            [
             0.1111111111111111,
             "#46039f"
            ],
            [
             0.2222222222222222,
             "#7201a8"
            ],
            [
             0.3333333333333333,
             "#9c179e"
            ],
            [
             0.4444444444444444,
             "#bd3786"
            ],
            [
             0.5555555555555556,
             "#d8576b"
            ],
            [
             0.6666666666666666,
             "#ed7953"
            ],
            [
             0.7777777777777778,
             "#fb9f3a"
            ],
            [
             0.8888888888888888,
             "#fdca26"
            ],
            [
             1,
             "#f0f921"
            ]
           ],
           "sequentialminus": [
            [
             0,
             "#0d0887"
            ],
            [
             0.1111111111111111,
             "#46039f"
            ],
            [
             0.2222222222222222,
             "#7201a8"
            ],
            [
             0.3333333333333333,
             "#9c179e"
            ],
            [
             0.4444444444444444,
             "#bd3786"
            ],
            [
             0.5555555555555556,
             "#d8576b"
            ],
            [
             0.6666666666666666,
             "#ed7953"
            ],
            [
             0.7777777777777778,
             "#fb9f3a"
            ],
            [
             0.8888888888888888,
             "#fdca26"
            ],
            [
             1,
             "#f0f921"
            ]
           ]
          },
          "colorway": [
           "#636efa",
           "#EF553B",
           "#00cc96",
           "#ab63fa",
           "#FFA15A",
           "#19d3f3",
           "#FF6692",
           "#B6E880",
           "#FF97FF",
           "#FECB52"
          ],
          "font": {
           "color": "#2a3f5f"
          },
          "geo": {
           "bgcolor": "white",
           "lakecolor": "white",
           "landcolor": "#E5ECF6",
           "showlakes": true,
           "showland": true,
           "subunitcolor": "white"
          },
          "hoverlabel": {
           "align": "left"
          },
          "hovermode": "closest",
          "mapbox": {
           "style": "light"
          },
          "paper_bgcolor": "white",
          "plot_bgcolor": "#E5ECF6",
          "polar": {
           "angularaxis": {
            "gridcolor": "white",
            "linecolor": "white",
            "ticks": ""
           },
           "bgcolor": "#E5ECF6",
           "radialaxis": {
            "gridcolor": "white",
            "linecolor": "white",
            "ticks": ""
           }
          },
          "scene": {
           "xaxis": {
            "backgroundcolor": "#E5ECF6",
            "gridcolor": "white",
            "gridwidth": 2,
            "linecolor": "white",
            "showbackground": true,
            "ticks": "",
            "zerolinecolor": "white"
           },
           "yaxis": {
            "backgroundcolor": "#E5ECF6",
            "gridcolor": "white",
            "gridwidth": 2,
            "linecolor": "white",
            "showbackground": true,
            "ticks": "",
            "zerolinecolor": "white"
           },
           "zaxis": {
            "backgroundcolor": "#E5ECF6",
            "gridcolor": "white",
            "gridwidth": 2,
            "linecolor": "white",
            "showbackground": true,
            "ticks": "",
            "zerolinecolor": "white"
           }
          },
          "shapedefaults": {
           "line": {
            "color": "#2a3f5f"
           }
          },
          "ternary": {
           "aaxis": {
            "gridcolor": "white",
            "linecolor": "white",
            "ticks": ""
           },
           "baxis": {
            "gridcolor": "white",
            "linecolor": "white",
            "ticks": ""
           },
           "bgcolor": "#E5ECF6",
           "caxis": {
            "gridcolor": "white",
            "linecolor": "white",
            "ticks": ""
           }
          },
          "title": {
           "x": 0.05
          },
          "xaxis": {
           "automargin": true,
           "gridcolor": "white",
           "linecolor": "white",
           "ticks": "",
           "title": {
            "standoff": 15
           },
           "zerolinecolor": "white",
           "zerolinewidth": 2
          },
          "yaxis": {
           "automargin": true,
           "gridcolor": "white",
           "linecolor": "white",
           "ticks": "",
           "title": {
            "standoff": 15
           },
           "zerolinecolor": "white",
           "zerolinewidth": 2
          }
         }
        },
        "title": {
         "text": "Scatter Plots For Each Cost Driver"
        },
        "xaxis": {
         "anchor": "y",
         "domain": [
          0,
          1
         ],
         "title": {
          "text": "Merchandise Purchased ($)"
         }
        },
        "xaxis2": {
         "anchor": "y2",
         "domain": [
          0,
          1
         ],
         "title": {
          "text": "Number of Purchase Orders"
         }
        },
        "xaxis3": {
         "anchor": "y3",
         "domain": [
          0,
          1
         ],
         "title": {
          "text": "Number of Suppliers"
         }
        },
        "yaxis": {
         "anchor": "x",
         "domain": [
          0.7333333333333333,
          1
         ],
         "title": {
          "text": "Purchasing Dept. Cost ($)"
         }
        },
        "yaxis2": {
         "anchor": "x2",
         "domain": [
          0.36666666666666664,
          0.6333333333333333
         ],
         "title": {
          "text": "Purchasing Dept. Cost ($)"
         }
        },
        "yaxis3": {
         "anchor": "x3",
         "domain": [
          0,
          0.26666666666666666
         ],
         "title": {
          "text": "Purchasing Dept. Cost ($)"
         }
        }
       }
      },
      "text/html": [
       "<div>                            <div id=\"bdbbb08f-2d2f-428b-9a7d-4404bb771483\" class=\"plotly-graph-div\" style=\"height:800px; width:100%;\"></div>            <script type=\"text/javascript\">                require([\"plotly\"], function(Plotly) {                    window.PLOTLYENV=window.PLOTLYENV || {};                                    if (document.getElementById(\"bdbbb08f-2d2f-428b-9a7d-4404bb771483\")) {                    Plotly.newPlot(                        \"bdbbb08f-2d2f-428b-9a7d-4404bb771483\",                        [{\"mode\": \"markers\", \"text\": [\"Sheridan, WY\", \"Denver\", \"Salt Lake City\", \"Kansas City\", \"Omaha\", \"Milwaukee\", \"Minneapolis\", \"Phoenix\", \"Las Vegas\", \"Albuquerque\", \"Tucson\", \"Houston\", \"Oklahoma City\", \"Tulsa\", \"Dallas\", \"San Antonio\", \"Austin\", \"El Paso\", \"Nashville\", \"Memphis\", \"Indianapolis\"], \"type\": \"scatter\", \"x\": [47239000, 102364000, 100162000, 95760000, 51466000, 50631000, 84753000, 103464000, 96162000, 62364000, 65635000, 88524000, 72645000, 61638000, 105666000, 59437000, 38542000, 33020000, 36322000, 34121000, 31920000], \"xaxis\": \"x\", \"y\": [575000, 1226000, 1710000, 881000, 1544000, 794000, 1341000, 794000, 2216000, 2030000, 1338000, 856000, 1122000, 863000, 1085000, 952000, 1134000, 1042000, 1634000, 699000, 875000], \"yaxis\": \"y\"}, {\"mode\": \"markers\", \"text\": [\"Sheridan, WY\", \"Denver\", \"Salt Lake City\", \"Kansas City\", \"Omaha\", \"Milwaukee\", \"Minneapolis\", \"Phoenix\", \"Las Vegas\", \"Albuquerque\", \"Tucson\", \"Houston\", \"Oklahoma City\", \"Tulsa\", \"Dallas\", \"San Antonio\", \"Austin\", \"El Paso\", \"Nashville\", \"Memphis\", \"Indianapolis\"], \"type\": \"scatter\", \"x\": [1708, 2519, 2506, 1719, 2883, 647, 2978, 3761, 2584, 5497, 4347, 2878, 819, 1247, 2162, 2822, 5115, 382, 5293, 967, 2425], \"xaxis\": \"x2\", \"y\": [575000, 1226000, 1710000, 881000, 1544000, 794000, 1341000, 794000, 2216000, 2030000, 1338000, 856000, 1122000, 863000, 1085000, 952000, 1134000, 1042000, 1634000, 699000, 875000], \"yaxis\": \"y2\"}, {\"mode\": \"markers\", \"text\": [\"Sheridan, WY\", \"Denver\", \"Salt Lake City\", \"Kansas City\", \"Omaha\", \"Milwaukee\", \"Minneapolis\", \"Phoenix\", \"Las Vegas\", \"Albuquerque\", \"Tucson\", \"Houston\", \"Oklahoma City\", \"Tulsa\", \"Dallas\", \"San Antonio\", \"Austin\", \"El Paso\", \"Nashville\", \"Memphis\", \"Indianapolis\"], \"type\": \"scatter\", \"x\": [61, 95, 139, 91, 155, 75, 103, 117, 73, 176, 130, 62, 129, 145, 141, 105, 51, 131, 172, 34, 48], \"xaxis\": \"x3\", \"y\": [575000, 1226000, 1710000, 881000, 1544000, 794000, 1341000, 794000, 2216000, 2030000, 1338000, 856000, 1122000, 863000, 1085000, 952000, 1134000, 1042000, 1634000, 699000, 875000], \"yaxis\": \"y3\"}],                        {\"height\": 800, \"showlegend\": false, \"template\": {\"data\": {\"bar\": [{\"error_x\": {\"color\": \"#2a3f5f\"}, \"error_y\": {\"color\": \"#2a3f5f\"}, \"marker\": {\"line\": {\"color\": \"#E5ECF6\", \"width\": 0.5}}, \"type\": \"bar\"}], \"barpolar\": [{\"marker\": {\"line\": {\"color\": \"#E5ECF6\", \"width\": 0.5}}, \"type\": \"barpolar\"}], \"carpet\": [{\"aaxis\": {\"endlinecolor\": \"#2a3f5f\", \"gridcolor\": \"white\", \"linecolor\": \"white\", \"minorgridcolor\": \"white\", \"startlinecolor\": \"#2a3f5f\"}, \"baxis\": {\"endlinecolor\": \"#2a3f5f\", \"gridcolor\": \"white\", \"linecolor\": \"white\", \"minorgridcolor\": \"white\", \"startlinecolor\": \"#2a3f5f\"}, \"type\": \"carpet\"}], \"choropleth\": [{\"colorbar\": {\"outlinewidth\": 0, \"ticks\": \"\"}, \"type\": \"choropleth\"}], \"contour\": [{\"colorbar\": {\"outlinewidth\": 0, \"ticks\": \"\"}, \"colorscale\": [[0.0, \"#0d0887\"], [0.1111111111111111, \"#46039f\"], [0.2222222222222222, \"#7201a8\"], [0.3333333333333333, \"#9c179e\"], [0.4444444444444444, \"#bd3786\"], [0.5555555555555556, \"#d8576b\"], [0.6666666666666666, \"#ed7953\"], [0.7777777777777778, \"#fb9f3a\"], [0.8888888888888888, \"#fdca26\"], [1.0, \"#f0f921\"]], \"type\": \"contour\"}], \"contourcarpet\": [{\"colorbar\": {\"outlinewidth\": 0, \"ticks\": \"\"}, \"type\": \"contourcarpet\"}], \"heatmap\": [{\"colorbar\": {\"outlinewidth\": 0, \"ticks\": \"\"}, \"colorscale\": [[0.0, \"#0d0887\"], [0.1111111111111111, \"#46039f\"], [0.2222222222222222, \"#7201a8\"], [0.3333333333333333, \"#9c179e\"], [0.4444444444444444, \"#bd3786\"], [0.5555555555555556, \"#d8576b\"], [0.6666666666666666, \"#ed7953\"], [0.7777777777777778, \"#fb9f3a\"], [0.8888888888888888, \"#fdca26\"], [1.0, \"#f0f921\"]], \"type\": \"heatmap\"}], \"heatmapgl\": [{\"colorbar\": {\"outlinewidth\": 0, \"ticks\": \"\"}, \"colorscale\": [[0.0, \"#0d0887\"], [0.1111111111111111, \"#46039f\"], [0.2222222222222222, \"#7201a8\"], [0.3333333333333333, \"#9c179e\"], [0.4444444444444444, \"#bd3786\"], [0.5555555555555556, \"#d8576b\"], [0.6666666666666666, \"#ed7953\"], [0.7777777777777778, \"#fb9f3a\"], [0.8888888888888888, \"#fdca26\"], [1.0, \"#f0f921\"]], \"type\": \"heatmapgl\"}], \"histogram\": [{\"marker\": {\"colorbar\": {\"outlinewidth\": 0, \"ticks\": \"\"}}, \"type\": \"histogram\"}], \"histogram2d\": [{\"colorbar\": {\"outlinewidth\": 0, \"ticks\": \"\"}, \"colorscale\": [[0.0, \"#0d0887\"], [0.1111111111111111, \"#46039f\"], [0.2222222222222222, \"#7201a8\"], [0.3333333333333333, \"#9c179e\"], [0.4444444444444444, \"#bd3786\"], [0.5555555555555556, \"#d8576b\"], [0.6666666666666666, \"#ed7953\"], [0.7777777777777778, \"#fb9f3a\"], [0.8888888888888888, \"#fdca26\"], [1.0, \"#f0f921\"]], \"type\": \"histogram2d\"}], \"histogram2dcontour\": [{\"colorbar\": {\"outlinewidth\": 0, \"ticks\": \"\"}, \"colorscale\": [[0.0, \"#0d0887\"], [0.1111111111111111, \"#46039f\"], [0.2222222222222222, \"#7201a8\"], [0.3333333333333333, \"#9c179e\"], [0.4444444444444444, \"#bd3786\"], [0.5555555555555556, \"#d8576b\"], [0.6666666666666666, \"#ed7953\"], [0.7777777777777778, \"#fb9f3a\"], [0.8888888888888888, \"#fdca26\"], [1.0, \"#f0f921\"]], \"type\": \"histogram2dcontour\"}], \"mesh3d\": [{\"colorbar\": {\"outlinewidth\": 0, \"ticks\": \"\"}, \"type\": \"mesh3d\"}], \"parcoords\": [{\"line\": {\"colorbar\": {\"outlinewidth\": 0, \"ticks\": \"\"}}, \"type\": \"parcoords\"}], \"pie\": [{\"automargin\": true, \"type\": \"pie\"}], \"scatter\": [{\"marker\": {\"colorbar\": {\"outlinewidth\": 0, \"ticks\": \"\"}}, \"type\": \"scatter\"}], \"scatter3d\": [{\"line\": {\"colorbar\": {\"outlinewidth\": 0, \"ticks\": \"\"}}, \"marker\": {\"colorbar\": {\"outlinewidth\": 0, \"ticks\": \"\"}}, \"type\": \"scatter3d\"}], \"scattercarpet\": [{\"marker\": {\"colorbar\": {\"outlinewidth\": 0, \"ticks\": \"\"}}, \"type\": \"scattercarpet\"}], \"scattergeo\": [{\"marker\": {\"colorbar\": {\"outlinewidth\": 0, \"ticks\": \"\"}}, \"type\": \"scattergeo\"}], \"scattergl\": [{\"marker\": {\"colorbar\": {\"outlinewidth\": 0, \"ticks\": \"\"}}, \"type\": \"scattergl\"}], \"scattermapbox\": [{\"marker\": {\"colorbar\": {\"outlinewidth\": 0, \"ticks\": \"\"}}, \"type\": \"scattermapbox\"}], \"scatterpolar\": [{\"marker\": {\"colorbar\": {\"outlinewidth\": 0, \"ticks\": \"\"}}, \"type\": \"scatterpolar\"}], \"scatterpolargl\": [{\"marker\": {\"colorbar\": {\"outlinewidth\": 0, \"ticks\": \"\"}}, \"type\": \"scatterpolargl\"}], \"scatterternary\": [{\"marker\": {\"colorbar\": {\"outlinewidth\": 0, \"ticks\": \"\"}}, \"type\": \"scatterternary\"}], \"surface\": [{\"colorbar\": {\"outlinewidth\": 0, \"ticks\": \"\"}, \"colorscale\": [[0.0, \"#0d0887\"], [0.1111111111111111, \"#46039f\"], [0.2222222222222222, \"#7201a8\"], [0.3333333333333333, \"#9c179e\"], [0.4444444444444444, \"#bd3786\"], [0.5555555555555556, \"#d8576b\"], [0.6666666666666666, \"#ed7953\"], [0.7777777777777778, \"#fb9f3a\"], [0.8888888888888888, \"#fdca26\"], [1.0, \"#f0f921\"]], \"type\": \"surface\"}], \"table\": [{\"cells\": {\"fill\": {\"color\": \"#EBF0F8\"}, \"line\": {\"color\": \"white\"}}, \"header\": {\"fill\": {\"color\": \"#C8D4E3\"}, \"line\": {\"color\": \"white\"}}, \"type\": \"table\"}]}, \"layout\": {\"annotationdefaults\": {\"arrowcolor\": \"#2a3f5f\", \"arrowhead\": 0, \"arrowwidth\": 1}, \"autotypenumbers\": \"strict\", \"coloraxis\": {\"colorbar\": {\"outlinewidth\": 0, \"ticks\": \"\"}}, \"colorscale\": {\"diverging\": [[0, \"#8e0152\"], [0.1, \"#c51b7d\"], [0.2, \"#de77ae\"], [0.3, \"#f1b6da\"], [0.4, \"#fde0ef\"], [0.5, \"#f7f7f7\"], [0.6, \"#e6f5d0\"], [0.7, \"#b8e186\"], [0.8, \"#7fbc41\"], [0.9, \"#4d9221\"], [1, \"#276419\"]], \"sequential\": [[0.0, \"#0d0887\"], [0.1111111111111111, \"#46039f\"], [0.2222222222222222, \"#7201a8\"], [0.3333333333333333, \"#9c179e\"], [0.4444444444444444, \"#bd3786\"], [0.5555555555555556, \"#d8576b\"], [0.6666666666666666, \"#ed7953\"], [0.7777777777777778, \"#fb9f3a\"], [0.8888888888888888, \"#fdca26\"], [1.0, \"#f0f921\"]], \"sequentialminus\": [[0.0, \"#0d0887\"], [0.1111111111111111, \"#46039f\"], [0.2222222222222222, \"#7201a8\"], [0.3333333333333333, \"#9c179e\"], [0.4444444444444444, \"#bd3786\"], [0.5555555555555556, \"#d8576b\"], [0.6666666666666666, \"#ed7953\"], [0.7777777777777778, \"#fb9f3a\"], [0.8888888888888888, \"#fdca26\"], [1.0, \"#f0f921\"]]}, \"colorway\": [\"#636efa\", \"#EF553B\", \"#00cc96\", \"#ab63fa\", \"#FFA15A\", \"#19d3f3\", \"#FF6692\", \"#B6E880\", \"#FF97FF\", \"#FECB52\"], \"font\": {\"color\": \"#2a3f5f\"}, \"geo\": {\"bgcolor\": \"white\", \"lakecolor\": \"white\", \"landcolor\": \"#E5ECF6\", \"showlakes\": true, \"showland\": true, \"subunitcolor\": \"white\"}, \"hoverlabel\": {\"align\": \"left\"}, \"hovermode\": \"closest\", \"mapbox\": {\"style\": \"light\"}, \"paper_bgcolor\": \"white\", \"plot_bgcolor\": \"#E5ECF6\", \"polar\": {\"angularaxis\": {\"gridcolor\": \"white\", \"linecolor\": \"white\", \"ticks\": \"\"}, \"bgcolor\": \"#E5ECF6\", \"radialaxis\": {\"gridcolor\": \"white\", \"linecolor\": \"white\", \"ticks\": \"\"}}, \"scene\": {\"xaxis\": {\"backgroundcolor\": \"#E5ECF6\", \"gridcolor\": \"white\", \"gridwidth\": 2, \"linecolor\": \"white\", \"showbackground\": true, \"ticks\": \"\", \"zerolinecolor\": \"white\"}, \"yaxis\": {\"backgroundcolor\": \"#E5ECF6\", \"gridcolor\": \"white\", \"gridwidth\": 2, \"linecolor\": \"white\", \"showbackground\": true, \"ticks\": \"\", \"zerolinecolor\": \"white\"}, \"zaxis\": {\"backgroundcolor\": \"#E5ECF6\", \"gridcolor\": \"white\", \"gridwidth\": 2, \"linecolor\": \"white\", \"showbackground\": true, \"ticks\": \"\", \"zerolinecolor\": \"white\"}}, \"shapedefaults\": {\"line\": {\"color\": \"#2a3f5f\"}}, \"ternary\": {\"aaxis\": {\"gridcolor\": \"white\", \"linecolor\": \"white\", \"ticks\": \"\"}, \"baxis\": {\"gridcolor\": \"white\", \"linecolor\": \"white\", \"ticks\": \"\"}, \"bgcolor\": \"#E5ECF6\", \"caxis\": {\"gridcolor\": \"white\", \"linecolor\": \"white\", \"ticks\": \"\"}}, \"title\": {\"x\": 0.05}, \"xaxis\": {\"automargin\": true, \"gridcolor\": \"white\", \"linecolor\": \"white\", \"ticks\": \"\", \"title\": {\"standoff\": 15}, \"zerolinecolor\": \"white\", \"zerolinewidth\": 2}, \"yaxis\": {\"automargin\": true, \"gridcolor\": \"white\", \"linecolor\": \"white\", \"ticks\": \"\", \"title\": {\"standoff\": 15}, \"zerolinecolor\": \"white\", \"zerolinewidth\": 2}}}, \"title\": {\"text\": \"Scatter Plots For Each Cost Driver\"}, \"xaxis\": {\"anchor\": \"y\", \"domain\": [0.0, 1.0], \"title\": {\"text\": \"Merchandise Purchased ($)\"}}, \"xaxis2\": {\"anchor\": \"y2\", \"domain\": [0.0, 1.0], \"title\": {\"text\": \"Number of Purchase Orders\"}}, \"xaxis3\": {\"anchor\": \"y3\", \"domain\": [0.0, 1.0], \"title\": {\"text\": \"Number of Suppliers\"}}, \"yaxis\": {\"anchor\": \"x\", \"domain\": [0.7333333333333333, 1.0], \"title\": {\"text\": \"Purchasing Dept. Cost ($)\"}}, \"yaxis2\": {\"anchor\": \"x2\", \"domain\": [0.36666666666666664, 0.6333333333333333], \"title\": {\"text\": \"Purchasing Dept. Cost ($)\"}}, \"yaxis3\": {\"anchor\": \"x3\", \"domain\": [0.0, 0.26666666666666666], \"title\": {\"text\": \"Purchasing Dept. Cost ($)\"}}},                        {\"responsive\": true}                    ).then(function(){\n",
       "                            \n",
       "var gd = document.getElementById('bdbbb08f-2d2f-428b-9a7d-4404bb771483');\n",
       "var x = new MutationObserver(function (mutations, observer) {{\n",
       "        var display = window.getComputedStyle(gd).display;\n",
       "        if (!display || display === 'none') {{\n",
       "            console.log([gd, 'removed!']);\n",
       "            Plotly.purge(gd);\n",
       "            observer.disconnect();\n",
       "        }}\n",
       "}});\n",
       "\n",
       "// Listen for the removal of the full notebook cells\n",
       "var notebookContainer = gd.closest('#notebook-container');\n",
       "if (notebookContainer) {{\n",
       "    x.observe(notebookContainer, {childList: true});\n",
       "}}\n",
       "\n",
       "// Listen for the clearing of the current output cell\n",
       "var outputEl = gd.closest('.output');\n",
       "if (outputEl) {{\n",
       "    x.observe(outputEl, {childList: true});\n",
       "}}\n",
       "\n",
       "                        })                };                });            </script>        </div>"
      ]
     },
     "metadata": {},
     "output_type": "display_data"
    }
   ],
   "source": [
    "fig = make_subplots(rows=3, cols=1)\n",
    "\n",
    "fig.add_trace(\n",
    "    go.Scatter(x=df['MerchandisePurchased'], \n",
    "               y=df['PurchasingDeptCost'],\n",
    "               mode='markers', text=df['StoreLocation'] ),\n",
    "\n",
    "1,1)\n",
    "\n",
    "fig.add_trace(\n",
    "    go.Scatter(x=df['PurchaseOrders'], \n",
    "               y=df['PurchasingDeptCost'], mode='markers', text=df['StoreLocation']),\n",
    "2,1)\n",
    "\n",
    "\n",
    "fig.add_trace(\n",
    "    go.Scatter(x=df['Suppliers'], \n",
    "               y=df['PurchasingDeptCost'], mode='markers', text=df['StoreLocation']),\n",
    "3,1)\n",
    "\n",
    "fig.update(layout_showlegend=False)\n",
    "\n",
    "\n",
    "fig.update_layout(\n",
    "    xaxis=dict( title='Merchandise Purchased ($)'),\n",
    "    xaxis2=dict( title='Number of Purchase Orders'),\n",
    "    xaxis3=dict( title='Number of Suppliers'),\n",
    "    yaxis=dict( title = 'Purchasing Dept. Cost ($)'),\n",
    "    yaxis2=dict( title = 'Purchasing Dept. Cost ($)'),\n",
    "    yaxis3=dict( title = 'Purchasing Dept. Cost ($)')\n",
    ")\n",
    "\n",
    "\n",
    "\n",
    "fig.update_layout(\n",
    "    height=800,\n",
    "    title_text=\"Scatter Plots For Each Cost Driver\"\n",
    "    )\n",
    "\n",
    "\n",
    "        \n",
    "fig.show()"
   ]
  },
  {
   "cell_type": "markdown",
   "id": "4d834414",
   "metadata": {},
   "source": [
    "[[Back to TOC]](#Table-of-Contents)"
   ]
  },
  {
   "cell_type": "markdown",
   "id": "a788d924",
   "metadata": {},
   "source": [
    "### Exclude Unusual Events"
   ]
  },
  {
   "cell_type": "markdown",
   "id": "889f81da",
   "metadata": {},
   "source": [
    "Especially the scatter plots for the number of purchase orders and the number of suppliers show that the Las Vegas store appears to be an outlier. Based on the setting, we also know there was a huge July Fourth fire, and the store had to be shut down for four months, and all the inventory had to be replaced. Because this is an unusual event that is unlikely to occur again, we eliminate this observation from the further analysis."
   ]
  },
  {
   "cell_type": "code",
   "execution_count": 7,
   "id": "7d0db589",
   "metadata": {},
   "outputs": [],
   "source": [
    "df = df[df['StoreLocation'] != 'Las Vegas']"
   ]
  },
  {
   "cell_type": "markdown",
   "id": "9bee7404",
   "metadata": {},
   "source": [
    "[[Back to TOC]](#Table-of-Contents)"
   ]
  },
  {
   "cell_type": "markdown",
   "id": "260abbef",
   "metadata": {},
   "source": [
    "### Regression Analysis\n",
    "\n",
    "In the following, we estimate several regression model specifications to determine the model that is best at explaining the purchasing department costs."
   ]
  },
  {
   "cell_type": "code",
   "execution_count": 8,
   "id": "9218d96c",
   "metadata": {},
   "outputs": [
    {
     "name": "stdout",
     "output_type": "stream",
     "text": [
      "                            OLS Regression Results                            \n",
      "==============================================================================\n",
      "Dep. Variable:     PurchasingDeptCost   R-squared:                       0.009\n",
      "Model:                            OLS   Adj. R-squared:                 -0.046\n",
      "Method:                 Least Squares   F-statistic:                    0.1689\n",
      "Date:                Mon, 21 Mar 2022   Prob (F-statistic):              0.686\n",
      "Time:                        14:07:09   Log-Likelihood:                -284.58\n",
      "No. Observations:                  20   AIC:                             573.2\n",
      "Df Residuals:                      18   BIC:                             575.2\n",
      "Df Model:                           1                                         \n",
      "Covariance Type:            nonrobust                                         \n",
      "========================================================================================\n",
      "                           coef    std err          t      P>|t|      [0.025      0.975]\n",
      "----------------------------------------------------------------------------------------\n",
      "Intercept             1.033e+06    2.4e+05      4.303      0.000    5.28e+05    1.54e+06\n",
      "MerchandisePurchased     0.0014      0.003      0.411      0.686      -0.006       0.008\n",
      "==============================================================================\n",
      "Omnibus:                        3.383   Durbin-Watson:                   2.539\n",
      "Prob(Omnibus):                  0.184   Jarque-Bera (JB):                2.317\n",
      "Skew:                           0.833   Prob(JB):                        0.314\n",
      "Kurtosis:                       2.936   Cond. No.                     1.98e+08\n",
      "==============================================================================\n",
      "\n",
      "Notes:\n",
      "[1] Standard Errors assume that the covariance matrix of the errors is correctly specified.\n",
      "[2] The condition number is large, 1.98e+08. This might indicate that there are\n",
      "strong multicollinearity or other numerical problems.\n"
     ]
    }
   ],
   "source": [
    "model = smf.ols('PurchasingDeptCost ~ MerchandisePurchased', data=df)\n",
    "model = model.fit()\n",
    "print(model.summary())"
   ]
  },
  {
   "cell_type": "code",
   "execution_count": 9,
   "id": "44ce3c10",
   "metadata": {},
   "outputs": [
    {
     "name": "stdout",
     "output_type": "stream",
     "text": [
      "                            OLS Regression Results                            \n",
      "==============================================================================\n",
      "Dep. Variable:     PurchasingDeptCost   R-squared:                       0.368\n",
      "Model:                            OLS   Adj. R-squared:                  0.332\n",
      "Method:                 Least Squares   F-statistic:                     10.46\n",
      "Date:                Mon, 21 Mar 2022   Prob (F-statistic):            0.00460\n",
      "Time:                        14:07:11   Log-Likelihood:                -280.09\n",
      "No. Observations:                  20   AIC:                             564.2\n",
      "Df Residuals:                      18   BIC:                             566.2\n",
      "Df Model:                           1                                         \n",
      "Covariance Type:            nonrobust                                         \n",
      "==================================================================================\n",
      "                     coef    std err          t      P>|t|      [0.025      0.975]\n",
      "----------------------------------------------------------------------------------\n",
      "Intercept        7.33e+05   1.39e+05      5.261      0.000     4.4e+05    1.03e+06\n",
      "PurchaseOrders   148.7408     45.982      3.235      0.005      52.136     245.346\n",
      "==============================================================================\n",
      "Omnibus:                        0.538   Durbin-Watson:                   2.465\n",
      "Prob(Omnibus):                  0.764   Jarque-Bera (JB):                0.629\n",
      "Skew:                           0.270   Prob(JB):                        0.730\n",
      "Kurtosis:                       2.319   Cond. No.                     6.13e+03\n",
      "==============================================================================\n",
      "\n",
      "Notes:\n",
      "[1] Standard Errors assume that the covariance matrix of the errors is correctly specified.\n",
      "[2] The condition number is large, 6.13e+03. This might indicate that there are\n",
      "strong multicollinearity or other numerical problems.\n"
     ]
    }
   ],
   "source": [
    "model = smf.ols('PurchasingDeptCost ~ PurchaseOrders', data=df)\n",
    "model = model.fit()\n",
    "print(model.summary())"
   ]
  },
  {
   "cell_type": "code",
   "execution_count": 10,
   "id": "e34bfe9d",
   "metadata": {},
   "outputs": [
    {
     "name": "stdout",
     "output_type": "stream",
     "text": [
      "                            OLS Regression Results                            \n",
      "==============================================================================\n",
      "Dep. Variable:     PurchasingDeptCost   R-squared:                       0.516\n",
      "Model:                            OLS   Adj. R-squared:                  0.489\n",
      "Method:                 Least Squares   F-statistic:                     19.18\n",
      "Date:                Mon, 21 Mar 2022   Prob (F-statistic):           0.000361\n",
      "Time:                        14:07:12   Log-Likelihood:                -277.42\n",
      "No. Observations:                  20   AIC:                             558.8\n",
      "Df Residuals:                      18   BIC:                             560.8\n",
      "Df Model:                           1                                         \n",
      "Covariance Type:            nonrobust                                         \n",
      "==============================================================================\n",
      "                 coef    std err          t      P>|t|      [0.025      0.975]\n",
      "------------------------------------------------------------------------------\n",
      "Intercept   4.343e+05   1.69e+05      2.573      0.019    7.97e+04    7.89e+05\n",
      "Suppliers   6393.1817   1459.730      4.380      0.000    3326.402    9459.962\n",
      "==============================================================================\n",
      "Omnibus:                        0.298   Durbin-Watson:                   2.331\n",
      "Prob(Omnibus):                  0.862   Jarque-Bera (JB):                0.464\n",
      "Skew:                           0.016   Prob(JB):                        0.793\n",
      "Kurtosis:                       2.255   Cond. No.                         324.\n",
      "==============================================================================\n",
      "\n",
      "Notes:\n",
      "[1] Standard Errors assume that the covariance matrix of the errors is correctly specified.\n"
     ]
    }
   ],
   "source": [
    "model = smf.ols('PurchasingDeptCost ~ Suppliers', data=df)\n",
    "model = model.fit()\n",
    "print(model.summary())"
   ]
  },
  {
   "cell_type": "code",
   "execution_count": 9,
   "id": "c084d96f",
   "metadata": {},
   "outputs": [
    {
     "name": "stdout",
     "output_type": "stream",
     "text": [
      "                            OLS Regression Results                            \n",
      "==============================================================================\n",
      "Dep. Variable:     PurchasingDeptCost   R-squared:                       0.375\n",
      "Model:                            OLS   Adj. R-squared:                  0.301\n",
      "Method:                 Least Squares   F-statistic:                     5.100\n",
      "Date:                Fri, 18 Mar 2022   Prob (F-statistic):             0.0184\n",
      "Time:                        15:30:46   Log-Likelihood:                -279.97\n",
      "No. Observations:                  20   AIC:                             565.9\n",
      "Df Residuals:                      17   BIC:                             568.9\n",
      "Df Model:                           2                                         \n",
      "Covariance Type:            nonrobust                                         \n",
      "========================================================================================\n",
      "                           coef    std err          t      P>|t|      [0.025      0.975]\n",
      "----------------------------------------------------------------------------------------\n",
      "Intercept             6.519e+05    2.3e+05      2.830      0.012    1.66e+05    1.14e+06\n",
      "MerchandisePurchased     0.0012      0.003      0.448      0.659      -0.005       0.007\n",
      "PurchaseOrders         148.3775     47.045      3.154      0.006      49.121     247.634\n",
      "==============================================================================\n",
      "Omnibus:                        0.368   Durbin-Watson:                   2.558\n",
      "Prob(Omnibus):                  0.832   Jarque-Bera (JB):                0.515\n",
      "Skew:                           0.196   Prob(JB):                        0.773\n",
      "Kurtosis:                       2.319   Cond. No.                     2.32e+08\n",
      "==============================================================================\n",
      "\n",
      "Notes:\n",
      "[1] Standard Errors assume that the covariance matrix of the errors is correctly specified.\n",
      "[2] The condition number is large, 2.32e+08. This might indicate that there are\n",
      "strong multicollinearity or other numerical problems.\n"
     ]
    }
   ],
   "source": [
    "model = smf.ols('PurchasingDeptCost ~ MerchandisePurchased + PurchaseOrders', data=df)\n",
    "model = model.fit()\n",
    "print(model.summary())"
   ]
  },
  {
   "cell_type": "code",
   "execution_count": 10,
   "id": "8b7a685c",
   "metadata": {},
   "outputs": [
    {
     "name": "stdout",
     "output_type": "stream",
     "text": [
      "                            OLS Regression Results                            \n",
      "==============================================================================\n",
      "Dep. Variable:     PurchasingDeptCost   R-squared:                       0.519\n",
      "Model:                            OLS   Adj. R-squared:                  0.462\n",
      "Method:                 Least Squares   F-statistic:                     9.161\n",
      "Date:                Fri, 18 Mar 2022   Prob (F-statistic):            0.00200\n",
      "Time:                        15:30:49   Log-Likelihood:                -277.36\n",
      "No. Observations:                  20   AIC:                             560.7\n",
      "Df Residuals:                      17   BIC:                             563.7\n",
      "Df Model:                           2                                         \n",
      "Covariance Type:            nonrobust                                         \n",
      "========================================================================================\n",
      "                           coef    std err          t      P>|t|      [0.025      0.975]\n",
      "----------------------------------------------------------------------------------------\n",
      "Intercept             4.754e+05   2.17e+05      2.195      0.042    1.85e+04    9.32e+05\n",
      "MerchandisePurchased    -0.0008      0.002     -0.316      0.756      -0.006       0.004\n",
      "Suppliers             6493.0718   1530.695      4.242      0.001    3263.588    9722.556\n",
      "==============================================================================\n",
      "Omnibus:                        0.272   Durbin-Watson:                   2.321\n",
      "Prob(Omnibus):                  0.873   Jarque-Bera (JB):                0.449\n",
      "Skew:                           0.037   Prob(JB):                        0.799\n",
      "Kurtosis:                       2.269   Cond. No.                     2.49e+08\n",
      "==============================================================================\n",
      "\n",
      "Notes:\n",
      "[1] Standard Errors assume that the covariance matrix of the errors is correctly specified.\n",
      "[2] The condition number is large, 2.49e+08. This might indicate that there are\n",
      "strong multicollinearity or other numerical problems.\n"
     ]
    }
   ],
   "source": [
    "model = smf.ols('PurchasingDeptCost ~ MerchandisePurchased  + Suppliers', data=df)\n",
    "model = model.fit()\n",
    "print(model.summary())"
   ]
  },
  {
   "cell_type": "code",
   "execution_count": 11,
   "id": "dbc95cc1",
   "metadata": {},
   "outputs": [
    {
     "name": "stdout",
     "output_type": "stream",
     "text": [
      "                            OLS Regression Results                            \n",
      "==============================================================================\n",
      "Dep. Variable:     PurchasingDeptCost   R-squared:                       0.684\n",
      "Model:                            OLS   Adj. R-squared:                  0.647\n",
      "Method:                 Least Squares   F-statistic:                     18.40\n",
      "Date:                Fri, 18 Mar 2022   Prob (F-statistic):           5.59e-05\n",
      "Time:                        15:30:52   Log-Likelihood:                -273.15\n",
      "No. Observations:                  20   AIC:                             552.3\n",
      "Df Residuals:                      17   BIC:                             555.3\n",
      "Df Model:                           2                                         \n",
      "Covariance Type:            nonrobust                                         \n",
      "==================================================================================\n",
      "                     coef    std err          t      P>|t|      [0.025      0.975]\n",
      "----------------------------------------------------------------------------------\n",
      "Intercept       2.804e+05   1.49e+05      1.877      0.078   -3.48e+04    5.95e+05\n",
      "PurchaseOrders   105.4219     35.057      3.007      0.008      31.459     179.385\n",
      "Suppliers       5247.5090   1271.958      4.126      0.001    2563.913    7931.105\n",
      "==============================================================================\n",
      "Omnibus:                        1.184   Durbin-Watson:                   2.356\n",
      "Prob(Omnibus):                  0.553   Jarque-Bera (JB):                0.343\n",
      "Skew:                          -0.301   Prob(JB):                        0.842\n",
      "Kurtosis:                       3.221   Cond. No.                     9.04e+03\n",
      "==============================================================================\n",
      "\n",
      "Notes:\n",
      "[1] Standard Errors assume that the covariance matrix of the errors is correctly specified.\n",
      "[2] The condition number is large, 9.04e+03. This might indicate that there are\n",
      "strong multicollinearity or other numerical problems.\n"
     ]
    }
   ],
   "source": [
    "model = smf.ols('PurchasingDeptCost ~ PurchaseOrders + Suppliers', data=df)\n",
    "model = model.fit()\n",
    "print(model.summary())"
   ]
  },
  {
   "cell_type": "code",
   "execution_count": 12,
   "id": "4a804e28",
   "metadata": {},
   "outputs": [
    {
     "name": "stdout",
     "output_type": "stream",
     "text": [
      "                            OLS Regression Results                            \n",
      "==============================================================================\n",
      "Dep. Variable:     PurchasingDeptCost   R-squared:                       0.685\n",
      "Model:                            OLS   Adj. R-squared:                  0.626\n",
      "Method:                 Least Squares   F-statistic:                     11.60\n",
      "Date:                Fri, 18 Mar 2022   Prob (F-statistic):           0.000274\n",
      "Time:                        15:30:55   Log-Likelihood:                -273.12\n",
      "No. Observations:                  20   AIC:                             554.2\n",
      "Df Residuals:                      16   BIC:                             558.2\n",
      "Df Model:                           3                                         \n",
      "Covariance Type:            nonrobust                                         \n",
      "========================================================================================\n",
      "                           coef    std err          t      P>|t|      [0.025      0.975]\n",
      "----------------------------------------------------------------------------------------\n",
      "Intercept             3.069e+05    1.9e+05      1.619      0.125    -9.5e+04    7.09e+05\n",
      "MerchandisePurchased    -0.0005      0.002     -0.239      0.814      -0.005       0.004\n",
      "PurchaseOrders         105.0085     36.112      2.908      0.010      28.454     181.563\n",
      "Suppliers             5315.1606   1338.966      3.970      0.001    2476.679    8153.642\n",
      "==============================================================================\n",
      "Omnibus:                        0.839   Durbin-Watson:                   2.334\n",
      "Prob(Omnibus):                  0.657   Jarque-Bera (JB):                0.144\n",
      "Skew:                          -0.187   Prob(JB):                        0.931\n",
      "Kurtosis:                       3.182   Cond. No.                     2.61e+08\n",
      "==============================================================================\n",
      "\n",
      "Notes:\n",
      "[1] Standard Errors assume that the covariance matrix of the errors is correctly specified.\n",
      "[2] The condition number is large, 2.61e+08. This might indicate that there are\n",
      "strong multicollinearity or other numerical problems.\n"
     ]
    }
   ],
   "source": [
    "model = smf.ols('PurchasingDeptCost ~ MerchandisePurchased + PurchaseOrders + Suppliers', data=df)\n",
    "model = model.fit()\n",
    "print(model.summary())"
   ]
  },
  {
   "cell_type": "markdown",
   "id": "7df063e9",
   "metadata": {},
   "source": [
    "[[Back to TOC]](#Table-of-Contents)"
   ]
  },
  {
   "cell_type": "markdown",
   "id": "9eb0ab1f",
   "metadata": {},
   "source": [
    "### Choice of the Best Model"
   ]
  },
  {
   "cell_type": "markdown",
   "id": "bd726e5f",
   "metadata": {},
   "source": [
    "We can see that the multivariate regression model with the number of purchase orders and the number of suppliers as independent variables is the one with the highest adjusted R^2 and, therefore, should be used for further analysis.\n",
    "\n",
    "**Final Model**\n",
    "\n",
    "$$ Purchasing Department Cost = 2.804e+05 +  105.4219 * Number of Purhcase Orders + 5247.5090 * Number of Suppliers $$\n",
    "\n"
   ]
  },
  {
   "cell_type": "markdown",
   "id": "76de45f9",
   "metadata": {},
   "source": [
    "[[Back to TOC]](#Table-of-Contents)"
   ]
  },
  {
   "cell_type": "markdown",
   "id": "1311ea18",
   "metadata": {},
   "source": [
    "### Meaning of the Model from an Economic Perspective\n",
    "\n",
    "The amount of merchandise purchased is a good indication of the size of the store. It is also a common allocation basis for a purchasing department. In general, it would seem economically plausible that the more merchandise purchased, the larger the purchasing department costs would be. But analysis of this data shows no relationship between these two variables.\n",
    "\n",
    "The number of purchase orders measures the activity of ordering merchandise. Some stores order large amounts of merchandise per purchase order, whereas others make many small purchases. The more purchase orders, the more people are needed, and the higher the purchasing department costs. The analysis supports this relationship.\n",
    "\n",
    "The number of suppliers measures the activity of maintaining suppliers. The more suppliers a store uses, the more supplier relations have to be maintained, and the more inventory has to be reviewed, recorded, and maintained. This should lead to higher purchasing department costs. The analysis also supports this relationship.\n"
   ]
  },
  {
   "cell_type": "markdown",
   "id": "dde45833",
   "metadata": {},
   "source": [
    "[[Back to TOC]](#Table-of-Contents)"
   ]
  },
  {
   "cell_type": "markdown",
   "id": "526de819",
   "metadata": {},
   "source": [
    "## Recommendations"
   ]
  },
  {
   "cell_type": "markdown",
   "id": "d61ea8f0",
   "metadata": {},
   "source": [
    "We use a conservative estimate based on the final regression model to estimate the potential cost savings from the recommended activities. We use 100 USD per purchase order and 5000 USD per supplier.\n",
    "\n",
    "- Find activities that decreases two of the predictors. "
   ]
  },
  {
   "cell_type": "markdown",
   "id": "658c7e5a",
   "metadata": {},
   "source": [
    "### Number of Suppliers"
   ]
  },
  {
   "cell_type": "markdown",
   "id": "0e5a5132",
   "metadata": {},
   "source": [
    "The number of suppliers should not depend on the amount of merchandise purchased. Currently, the range of suppliers is from 34 to 176, with a median of 111. Supplier reduction should initially be targeted at those with an extremely high number of suppliers. The recommendation is for all stores to reduce their suppliers to 125 or fewer. For all but two stores, this will be a reduction of 3% to 19% and should not be onerous. The two stores with the most suppliers would have to decrease their suppliers by almost 30%. Thus, the recommendation is as follows: all stores should reduce their number of suppliers to 125 or fewer within six months, except those with more than 150 suppliers; those stores should reduce their suppliers by 15% in the first six months and to 125 in the second six months. \n",
    "\n",
    "\n",
    "- It's the firm that decides who to cut as a suppliers. "
   ]
  },
  {
   "cell_type": "code",
   "execution_count": 11,
   "id": "7e8d432c",
   "metadata": {},
   "outputs": [
    {
     "data": {
      "text/plain": [
       "count     20.00000\n",
       "mean     108.00000\n",
       "std       42.37303\n",
       "min       34.00000\n",
       "25%       71.75000\n",
       "50%      111.00000\n",
       "75%      139.50000\n",
       "max      176.00000\n",
       "Name: Suppliers, dtype: float64"
      ]
     },
     "execution_count": 11,
     "metadata": {},
     "output_type": "execute_result"
    }
   ],
   "source": [
    "df['Suppliers'].describe()"
   ]
  },
  {
   "cell_type": "code",
   "execution_count": 13,
   "id": "ce17bb61",
   "metadata": {},
   "outputs": [
    {
     "data": {
      "application/vnd.plotly.v1+json": {
       "config": {
        "plotlyServerURL": "https://plot.ly"
       },
       "data": [
        {
         "type": "histogram",
         "x": [
          61,
          95,
          139,
          91,
          155,
          75,
          103,
          117,
          176,
          130,
          62,
          129,
          145,
          141,
          105,
          51,
          131,
          172,
          34,
          48
         ],
         "xbins": {
          "size": 5
         }
        }
       ],
       "layout": {
        "template": {
         "data": {
          "bar": [
           {
            "error_x": {
             "color": "#2a3f5f"
            },
            "error_y": {
             "color": "#2a3f5f"
            },
            "marker": {
             "line": {
              "color": "#E5ECF6",
              "width": 0.5
             }
            },
            "type": "bar"
           }
          ],
          "barpolar": [
           {
            "marker": {
             "line": {
              "color": "#E5ECF6",
              "width": 0.5
             }
            },
            "type": "barpolar"
           }
          ],
          "carpet": [
           {
            "aaxis": {
             "endlinecolor": "#2a3f5f",
             "gridcolor": "white",
             "linecolor": "white",
             "minorgridcolor": "white",
             "startlinecolor": "#2a3f5f"
            },
            "baxis": {
             "endlinecolor": "#2a3f5f",
             "gridcolor": "white",
             "linecolor": "white",
             "minorgridcolor": "white",
             "startlinecolor": "#2a3f5f"
            },
            "type": "carpet"
           }
          ],
          "choropleth": [
           {
            "colorbar": {
             "outlinewidth": 0,
             "ticks": ""
            },
            "type": "choropleth"
           }
          ],
          "contour": [
           {
            "colorbar": {
             "outlinewidth": 0,
             "ticks": ""
            },
            "colorscale": [
             [
              0,
              "#0d0887"
             ],
             [
              0.1111111111111111,
              "#46039f"
             ],
             [
              0.2222222222222222,
              "#7201a8"
             ],
             [
              0.3333333333333333,
              "#9c179e"
             ],
             [
              0.4444444444444444,
              "#bd3786"
             ],
             [
              0.5555555555555556,
              "#d8576b"
             ],
             [
              0.6666666666666666,
              "#ed7953"
             ],
             [
              0.7777777777777778,
              "#fb9f3a"
             ],
             [
              0.8888888888888888,
              "#fdca26"
             ],
             [
              1,
              "#f0f921"
             ]
            ],
            "type": "contour"
           }
          ],
          "contourcarpet": [
           {
            "colorbar": {
             "outlinewidth": 0,
             "ticks": ""
            },
            "type": "contourcarpet"
           }
          ],
          "heatmap": [
           {
            "colorbar": {
             "outlinewidth": 0,
             "ticks": ""
            },
            "colorscale": [
             [
              0,
              "#0d0887"
             ],
             [
              0.1111111111111111,
              "#46039f"
             ],
             [
              0.2222222222222222,
              "#7201a8"
             ],
             [
              0.3333333333333333,
              "#9c179e"
             ],
             [
              0.4444444444444444,
              "#bd3786"
             ],
             [
              0.5555555555555556,
              "#d8576b"
             ],
             [
              0.6666666666666666,
              "#ed7953"
             ],
             [
              0.7777777777777778,
              "#fb9f3a"
             ],
             [
              0.8888888888888888,
              "#fdca26"
             ],
             [
              1,
              "#f0f921"
             ]
            ],
            "type": "heatmap"
           }
          ],
          "heatmapgl": [
           {
            "colorbar": {
             "outlinewidth": 0,
             "ticks": ""
            },
            "colorscale": [
             [
              0,
              "#0d0887"
             ],
             [
              0.1111111111111111,
              "#46039f"
             ],
             [
              0.2222222222222222,
              "#7201a8"
             ],
             [
              0.3333333333333333,
              "#9c179e"
             ],
             [
              0.4444444444444444,
              "#bd3786"
             ],
             [
              0.5555555555555556,
              "#d8576b"
             ],
             [
              0.6666666666666666,
              "#ed7953"
             ],
             [
              0.7777777777777778,
              "#fb9f3a"
             ],
             [
              0.8888888888888888,
              "#fdca26"
             ],
             [
              1,
              "#f0f921"
             ]
            ],
            "type": "heatmapgl"
           }
          ],
          "histogram": [
           {
            "marker": {
             "colorbar": {
              "outlinewidth": 0,
              "ticks": ""
             }
            },
            "type": "histogram"
           }
          ],
          "histogram2d": [
           {
            "colorbar": {
             "outlinewidth": 0,
             "ticks": ""
            },
            "colorscale": [
             [
              0,
              "#0d0887"
             ],
             [
              0.1111111111111111,
              "#46039f"
             ],
             [
              0.2222222222222222,
              "#7201a8"
             ],
             [
              0.3333333333333333,
              "#9c179e"
             ],
             [
              0.4444444444444444,
              "#bd3786"
             ],
             [
              0.5555555555555556,
              "#d8576b"
             ],
             [
              0.6666666666666666,
              "#ed7953"
             ],
             [
              0.7777777777777778,
              "#fb9f3a"
             ],
             [
              0.8888888888888888,
              "#fdca26"
             ],
             [
              1,
              "#f0f921"
             ]
            ],
            "type": "histogram2d"
           }
          ],
          "histogram2dcontour": [
           {
            "colorbar": {
             "outlinewidth": 0,
             "ticks": ""
            },
            "colorscale": [
             [
              0,
              "#0d0887"
             ],
             [
              0.1111111111111111,
              "#46039f"
             ],
             [
              0.2222222222222222,
              "#7201a8"
             ],
             [
              0.3333333333333333,
              "#9c179e"
             ],
             [
              0.4444444444444444,
              "#bd3786"
             ],
             [
              0.5555555555555556,
              "#d8576b"
             ],
             [
              0.6666666666666666,
              "#ed7953"
             ],
             [
              0.7777777777777778,
              "#fb9f3a"
             ],
             [
              0.8888888888888888,
              "#fdca26"
             ],
             [
              1,
              "#f0f921"
             ]
            ],
            "type": "histogram2dcontour"
           }
          ],
          "mesh3d": [
           {
            "colorbar": {
             "outlinewidth": 0,
             "ticks": ""
            },
            "type": "mesh3d"
           }
          ],
          "parcoords": [
           {
            "line": {
             "colorbar": {
              "outlinewidth": 0,
              "ticks": ""
             }
            },
            "type": "parcoords"
           }
          ],
          "pie": [
           {
            "automargin": true,
            "type": "pie"
           }
          ],
          "scatter": [
           {
            "marker": {
             "colorbar": {
              "outlinewidth": 0,
              "ticks": ""
             }
            },
            "type": "scatter"
           }
          ],
          "scatter3d": [
           {
            "line": {
             "colorbar": {
              "outlinewidth": 0,
              "ticks": ""
             }
            },
            "marker": {
             "colorbar": {
              "outlinewidth": 0,
              "ticks": ""
             }
            },
            "type": "scatter3d"
           }
          ],
          "scattercarpet": [
           {
            "marker": {
             "colorbar": {
              "outlinewidth": 0,
              "ticks": ""
             }
            },
            "type": "scattercarpet"
           }
          ],
          "scattergeo": [
           {
            "marker": {
             "colorbar": {
              "outlinewidth": 0,
              "ticks": ""
             }
            },
            "type": "scattergeo"
           }
          ],
          "scattergl": [
           {
            "marker": {
             "colorbar": {
              "outlinewidth": 0,
              "ticks": ""
             }
            },
            "type": "scattergl"
           }
          ],
          "scattermapbox": [
           {
            "marker": {
             "colorbar": {
              "outlinewidth": 0,
              "ticks": ""
             }
            },
            "type": "scattermapbox"
           }
          ],
          "scatterpolar": [
           {
            "marker": {
             "colorbar": {
              "outlinewidth": 0,
              "ticks": ""
             }
            },
            "type": "scatterpolar"
           }
          ],
          "scatterpolargl": [
           {
            "marker": {
             "colorbar": {
              "outlinewidth": 0,
              "ticks": ""
             }
            },
            "type": "scatterpolargl"
           }
          ],
          "scatterternary": [
           {
            "marker": {
             "colorbar": {
              "outlinewidth": 0,
              "ticks": ""
             }
            },
            "type": "scatterternary"
           }
          ],
          "surface": [
           {
            "colorbar": {
             "outlinewidth": 0,
             "ticks": ""
            },
            "colorscale": [
             [
              0,
              "#0d0887"
             ],
             [
              0.1111111111111111,
              "#46039f"
             ],
             [
              0.2222222222222222,
              "#7201a8"
             ],
             [
              0.3333333333333333,
              "#9c179e"
             ],
             [
              0.4444444444444444,
              "#bd3786"
             ],
             [
              0.5555555555555556,
              "#d8576b"
             ],
             [
              0.6666666666666666,
              "#ed7953"
             ],
             [
              0.7777777777777778,
              "#fb9f3a"
             ],
             [
              0.8888888888888888,
              "#fdca26"
             ],
             [
              1,
              "#f0f921"
             ]
            ],
            "type": "surface"
           }
          ],
          "table": [
           {
            "cells": {
             "fill": {
              "color": "#EBF0F8"
             },
             "line": {
              "color": "white"
             }
            },
            "header": {
             "fill": {
              "color": "#C8D4E3"
             },
             "line": {
              "color": "white"
             }
            },
            "type": "table"
           }
          ]
         },
         "layout": {
          "annotationdefaults": {
           "arrowcolor": "#2a3f5f",
           "arrowhead": 0,
           "arrowwidth": 1
          },
          "autotypenumbers": "strict",
          "coloraxis": {
           "colorbar": {
            "outlinewidth": 0,
            "ticks": ""
           }
          },
          "colorscale": {
           "diverging": [
            [
             0,
             "#8e0152"
            ],
            [
             0.1,
             "#c51b7d"
            ],
            [
             0.2,
             "#de77ae"
            ],
            [
             0.3,
             "#f1b6da"
            ],
            [
             0.4,
             "#fde0ef"
            ],
            [
             0.5,
             "#f7f7f7"
            ],
            [
             0.6,
             "#e6f5d0"
            ],
            [
             0.7,
             "#b8e186"
            ],
            [
             0.8,
             "#7fbc41"
            ],
            [
             0.9,
             "#4d9221"
            ],
            [
             1,
             "#276419"
            ]
           ],
           "sequential": [
            [
             0,
             "#0d0887"
            ],
            [
             0.1111111111111111,
             "#46039f"
            ],
            [
             0.2222222222222222,
             "#7201a8"
            ],
            [
             0.3333333333333333,
             "#9c179e"
            ],
            [
             0.4444444444444444,
             "#bd3786"
            ],
            [
             0.5555555555555556,
             "#d8576b"
            ],
            [
             0.6666666666666666,
             "#ed7953"
            ],
            [
             0.7777777777777778,
             "#fb9f3a"
            ],
            [
             0.8888888888888888,
             "#fdca26"
            ],
            [
             1,
             "#f0f921"
            ]
           ],
           "sequentialminus": [
            [
             0,
             "#0d0887"
            ],
            [
             0.1111111111111111,
             "#46039f"
            ],
            [
             0.2222222222222222,
             "#7201a8"
            ],
            [
             0.3333333333333333,
             "#9c179e"
            ],
            [
             0.4444444444444444,
             "#bd3786"
            ],
            [
             0.5555555555555556,
             "#d8576b"
            ],
            [
             0.6666666666666666,
             "#ed7953"
            ],
            [
             0.7777777777777778,
             "#fb9f3a"
            ],
            [
             0.8888888888888888,
             "#fdca26"
            ],
            [
             1,
             "#f0f921"
            ]
           ]
          },
          "colorway": [
           "#636efa",
           "#EF553B",
           "#00cc96",
           "#ab63fa",
           "#FFA15A",
           "#19d3f3",
           "#FF6692",
           "#B6E880",
           "#FF97FF",
           "#FECB52"
          ],
          "font": {
           "color": "#2a3f5f"
          },
          "geo": {
           "bgcolor": "white",
           "lakecolor": "white",
           "landcolor": "#E5ECF6",
           "showlakes": true,
           "showland": true,
           "subunitcolor": "white"
          },
          "hoverlabel": {
           "align": "left"
          },
          "hovermode": "closest",
          "mapbox": {
           "style": "light"
          },
          "paper_bgcolor": "white",
          "plot_bgcolor": "#E5ECF6",
          "polar": {
           "angularaxis": {
            "gridcolor": "white",
            "linecolor": "white",
            "ticks": ""
           },
           "bgcolor": "#E5ECF6",
           "radialaxis": {
            "gridcolor": "white",
            "linecolor": "white",
            "ticks": ""
           }
          },
          "scene": {
           "xaxis": {
            "backgroundcolor": "#E5ECF6",
            "gridcolor": "white",
            "gridwidth": 2,
            "linecolor": "white",
            "showbackground": true,
            "ticks": "",
            "zerolinecolor": "white"
           },
           "yaxis": {
            "backgroundcolor": "#E5ECF6",
            "gridcolor": "white",
            "gridwidth": 2,
            "linecolor": "white",
            "showbackground": true,
            "ticks": "",
            "zerolinecolor": "white"
           },
           "zaxis": {
            "backgroundcolor": "#E5ECF6",
            "gridcolor": "white",
            "gridwidth": 2,
            "linecolor": "white",
            "showbackground": true,
            "ticks": "",
            "zerolinecolor": "white"
           }
          },
          "shapedefaults": {
           "line": {
            "color": "#2a3f5f"
           }
          },
          "ternary": {
           "aaxis": {
            "gridcolor": "white",
            "linecolor": "white",
            "ticks": ""
           },
           "baxis": {
            "gridcolor": "white",
            "linecolor": "white",
            "ticks": ""
           },
           "bgcolor": "#E5ECF6",
           "caxis": {
            "gridcolor": "white",
            "linecolor": "white",
            "ticks": ""
           }
          },
          "title": {
           "x": 0.05
          },
          "xaxis": {
           "automargin": true,
           "gridcolor": "white",
           "linecolor": "white",
           "ticks": "",
           "title": {
            "standoff": 15
           },
           "zerolinecolor": "white",
           "zerolinewidth": 2
          },
          "yaxis": {
           "automargin": true,
           "gridcolor": "white",
           "linecolor": "white",
           "ticks": "",
           "title": {
            "standoff": 15
           },
           "zerolinecolor": "white",
           "zerolinewidth": 2
          }
         }
        },
        "title": {
         "text": "Distribution of Number of Suppliers"
        }
       }
      },
      "text/html": [
       "<div>                            <div id=\"a3a4b6e3-8330-4192-a060-e59baaed564f\" class=\"plotly-graph-div\" style=\"height:525px; width:100%;\"></div>            <script type=\"text/javascript\">                require([\"plotly\"], function(Plotly) {                    window.PLOTLYENV=window.PLOTLYENV || {};                                    if (document.getElementById(\"a3a4b6e3-8330-4192-a060-e59baaed564f\")) {                    Plotly.newPlot(                        \"a3a4b6e3-8330-4192-a060-e59baaed564f\",                        [{\"type\": \"histogram\", \"x\": [61, 95, 139, 91, 155, 75, 103, 117, 176, 130, 62, 129, 145, 141, 105, 51, 131, 172, 34, 48], \"xbins\": {\"size\": 5.0}}],                        {\"template\": {\"data\": {\"bar\": [{\"error_x\": {\"color\": \"#2a3f5f\"}, \"error_y\": {\"color\": \"#2a3f5f\"}, \"marker\": {\"line\": {\"color\": \"#E5ECF6\", \"width\": 0.5}}, \"type\": \"bar\"}], \"barpolar\": [{\"marker\": {\"line\": {\"color\": \"#E5ECF6\", \"width\": 0.5}}, \"type\": \"barpolar\"}], \"carpet\": [{\"aaxis\": {\"endlinecolor\": \"#2a3f5f\", \"gridcolor\": \"white\", \"linecolor\": \"white\", \"minorgridcolor\": \"white\", \"startlinecolor\": \"#2a3f5f\"}, \"baxis\": {\"endlinecolor\": \"#2a3f5f\", \"gridcolor\": \"white\", \"linecolor\": \"white\", \"minorgridcolor\": \"white\", \"startlinecolor\": \"#2a3f5f\"}, \"type\": \"carpet\"}], \"choropleth\": [{\"colorbar\": {\"outlinewidth\": 0, \"ticks\": \"\"}, \"type\": \"choropleth\"}], \"contour\": [{\"colorbar\": {\"outlinewidth\": 0, \"ticks\": \"\"}, \"colorscale\": [[0.0, \"#0d0887\"], [0.1111111111111111, \"#46039f\"], [0.2222222222222222, \"#7201a8\"], [0.3333333333333333, \"#9c179e\"], [0.4444444444444444, \"#bd3786\"], [0.5555555555555556, \"#d8576b\"], [0.6666666666666666, \"#ed7953\"], [0.7777777777777778, \"#fb9f3a\"], [0.8888888888888888, \"#fdca26\"], [1.0, \"#f0f921\"]], \"type\": \"contour\"}], \"contourcarpet\": [{\"colorbar\": {\"outlinewidth\": 0, \"ticks\": \"\"}, \"type\": \"contourcarpet\"}], \"heatmap\": [{\"colorbar\": {\"outlinewidth\": 0, \"ticks\": \"\"}, \"colorscale\": [[0.0, \"#0d0887\"], [0.1111111111111111, \"#46039f\"], [0.2222222222222222, \"#7201a8\"], [0.3333333333333333, \"#9c179e\"], [0.4444444444444444, \"#bd3786\"], [0.5555555555555556, \"#d8576b\"], [0.6666666666666666, \"#ed7953\"], [0.7777777777777778, \"#fb9f3a\"], [0.8888888888888888, \"#fdca26\"], [1.0, \"#f0f921\"]], \"type\": \"heatmap\"}], \"heatmapgl\": [{\"colorbar\": {\"outlinewidth\": 0, \"ticks\": \"\"}, \"colorscale\": [[0.0, \"#0d0887\"], [0.1111111111111111, \"#46039f\"], [0.2222222222222222, \"#7201a8\"], [0.3333333333333333, \"#9c179e\"], [0.4444444444444444, \"#bd3786\"], [0.5555555555555556, \"#d8576b\"], [0.6666666666666666, \"#ed7953\"], [0.7777777777777778, \"#fb9f3a\"], [0.8888888888888888, \"#fdca26\"], [1.0, \"#f0f921\"]], \"type\": \"heatmapgl\"}], \"histogram\": [{\"marker\": {\"colorbar\": {\"outlinewidth\": 0, \"ticks\": \"\"}}, \"type\": \"histogram\"}], \"histogram2d\": [{\"colorbar\": {\"outlinewidth\": 0, \"ticks\": \"\"}, \"colorscale\": [[0.0, \"#0d0887\"], [0.1111111111111111, \"#46039f\"], [0.2222222222222222, \"#7201a8\"], [0.3333333333333333, \"#9c179e\"], [0.4444444444444444, \"#bd3786\"], [0.5555555555555556, \"#d8576b\"], [0.6666666666666666, \"#ed7953\"], [0.7777777777777778, \"#fb9f3a\"], [0.8888888888888888, \"#fdca26\"], [1.0, \"#f0f921\"]], \"type\": \"histogram2d\"}], \"histogram2dcontour\": [{\"colorbar\": {\"outlinewidth\": 0, \"ticks\": \"\"}, \"colorscale\": [[0.0, \"#0d0887\"], [0.1111111111111111, \"#46039f\"], [0.2222222222222222, \"#7201a8\"], [0.3333333333333333, \"#9c179e\"], [0.4444444444444444, \"#bd3786\"], [0.5555555555555556, \"#d8576b\"], [0.6666666666666666, \"#ed7953\"], [0.7777777777777778, \"#fb9f3a\"], [0.8888888888888888, \"#fdca26\"], [1.0, \"#f0f921\"]], \"type\": \"histogram2dcontour\"}], \"mesh3d\": [{\"colorbar\": {\"outlinewidth\": 0, \"ticks\": \"\"}, \"type\": \"mesh3d\"}], \"parcoords\": [{\"line\": {\"colorbar\": {\"outlinewidth\": 0, \"ticks\": \"\"}}, \"type\": \"parcoords\"}], \"pie\": [{\"automargin\": true, \"type\": \"pie\"}], \"scatter\": [{\"marker\": {\"colorbar\": {\"outlinewidth\": 0, \"ticks\": \"\"}}, \"type\": \"scatter\"}], \"scatter3d\": [{\"line\": {\"colorbar\": {\"outlinewidth\": 0, \"ticks\": \"\"}}, \"marker\": {\"colorbar\": {\"outlinewidth\": 0, \"ticks\": \"\"}}, \"type\": \"scatter3d\"}], \"scattercarpet\": [{\"marker\": {\"colorbar\": {\"outlinewidth\": 0, \"ticks\": \"\"}}, \"type\": \"scattercarpet\"}], \"scattergeo\": [{\"marker\": {\"colorbar\": {\"outlinewidth\": 0, \"ticks\": \"\"}}, \"type\": \"scattergeo\"}], \"scattergl\": [{\"marker\": {\"colorbar\": {\"outlinewidth\": 0, \"ticks\": \"\"}}, \"type\": \"scattergl\"}], \"scattermapbox\": [{\"marker\": {\"colorbar\": {\"outlinewidth\": 0, \"ticks\": \"\"}}, \"type\": \"scattermapbox\"}], \"scatterpolar\": [{\"marker\": {\"colorbar\": {\"outlinewidth\": 0, \"ticks\": \"\"}}, \"type\": \"scatterpolar\"}], \"scatterpolargl\": [{\"marker\": {\"colorbar\": {\"outlinewidth\": 0, \"ticks\": \"\"}}, \"type\": \"scatterpolargl\"}], \"scatterternary\": [{\"marker\": {\"colorbar\": {\"outlinewidth\": 0, \"ticks\": \"\"}}, \"type\": \"scatterternary\"}], \"surface\": [{\"colorbar\": {\"outlinewidth\": 0, \"ticks\": \"\"}, \"colorscale\": [[0.0, \"#0d0887\"], [0.1111111111111111, \"#46039f\"], [0.2222222222222222, \"#7201a8\"], [0.3333333333333333, \"#9c179e\"], [0.4444444444444444, \"#bd3786\"], [0.5555555555555556, \"#d8576b\"], [0.6666666666666666, \"#ed7953\"], [0.7777777777777778, \"#fb9f3a\"], [0.8888888888888888, \"#fdca26\"], [1.0, \"#f0f921\"]], \"type\": \"surface\"}], \"table\": [{\"cells\": {\"fill\": {\"color\": \"#EBF0F8\"}, \"line\": {\"color\": \"white\"}}, \"header\": {\"fill\": {\"color\": \"#C8D4E3\"}, \"line\": {\"color\": \"white\"}}, \"type\": \"table\"}]}, \"layout\": {\"annotationdefaults\": {\"arrowcolor\": \"#2a3f5f\", \"arrowhead\": 0, \"arrowwidth\": 1}, \"autotypenumbers\": \"strict\", \"coloraxis\": {\"colorbar\": {\"outlinewidth\": 0, \"ticks\": \"\"}}, \"colorscale\": {\"diverging\": [[0, \"#8e0152\"], [0.1, \"#c51b7d\"], [0.2, \"#de77ae\"], [0.3, \"#f1b6da\"], [0.4, \"#fde0ef\"], [0.5, \"#f7f7f7\"], [0.6, \"#e6f5d0\"], [0.7, \"#b8e186\"], [0.8, \"#7fbc41\"], [0.9, \"#4d9221\"], [1, \"#276419\"]], \"sequential\": [[0.0, \"#0d0887\"], [0.1111111111111111, \"#46039f\"], [0.2222222222222222, \"#7201a8\"], [0.3333333333333333, \"#9c179e\"], [0.4444444444444444, \"#bd3786\"], [0.5555555555555556, \"#d8576b\"], [0.6666666666666666, \"#ed7953\"], [0.7777777777777778, \"#fb9f3a\"], [0.8888888888888888, \"#fdca26\"], [1.0, \"#f0f921\"]], \"sequentialminus\": [[0.0, \"#0d0887\"], [0.1111111111111111, \"#46039f\"], [0.2222222222222222, \"#7201a8\"], [0.3333333333333333, \"#9c179e\"], [0.4444444444444444, \"#bd3786\"], [0.5555555555555556, \"#d8576b\"], [0.6666666666666666, \"#ed7953\"], [0.7777777777777778, \"#fb9f3a\"], [0.8888888888888888, \"#fdca26\"], [1.0, \"#f0f921\"]]}, \"colorway\": [\"#636efa\", \"#EF553B\", \"#00cc96\", \"#ab63fa\", \"#FFA15A\", \"#19d3f3\", \"#FF6692\", \"#B6E880\", \"#FF97FF\", \"#FECB52\"], \"font\": {\"color\": \"#2a3f5f\"}, \"geo\": {\"bgcolor\": \"white\", \"lakecolor\": \"white\", \"landcolor\": \"#E5ECF6\", \"showlakes\": true, \"showland\": true, \"subunitcolor\": \"white\"}, \"hoverlabel\": {\"align\": \"left\"}, \"hovermode\": \"closest\", \"mapbox\": {\"style\": \"light\"}, \"paper_bgcolor\": \"white\", \"plot_bgcolor\": \"#E5ECF6\", \"polar\": {\"angularaxis\": {\"gridcolor\": \"white\", \"linecolor\": \"white\", \"ticks\": \"\"}, \"bgcolor\": \"#E5ECF6\", \"radialaxis\": {\"gridcolor\": \"white\", \"linecolor\": \"white\", \"ticks\": \"\"}}, \"scene\": {\"xaxis\": {\"backgroundcolor\": \"#E5ECF6\", \"gridcolor\": \"white\", \"gridwidth\": 2, \"linecolor\": \"white\", \"showbackground\": true, \"ticks\": \"\", \"zerolinecolor\": \"white\"}, \"yaxis\": {\"backgroundcolor\": \"#E5ECF6\", \"gridcolor\": \"white\", \"gridwidth\": 2, \"linecolor\": \"white\", \"showbackground\": true, \"ticks\": \"\", \"zerolinecolor\": \"white\"}, \"zaxis\": {\"backgroundcolor\": \"#E5ECF6\", \"gridcolor\": \"white\", \"gridwidth\": 2, \"linecolor\": \"white\", \"showbackground\": true, \"ticks\": \"\", \"zerolinecolor\": \"white\"}}, \"shapedefaults\": {\"line\": {\"color\": \"#2a3f5f\"}}, \"ternary\": {\"aaxis\": {\"gridcolor\": \"white\", \"linecolor\": \"white\", \"ticks\": \"\"}, \"baxis\": {\"gridcolor\": \"white\", \"linecolor\": \"white\", \"ticks\": \"\"}, \"bgcolor\": \"#E5ECF6\", \"caxis\": {\"gridcolor\": \"white\", \"linecolor\": \"white\", \"ticks\": \"\"}}, \"title\": {\"x\": 0.05}, \"xaxis\": {\"automargin\": true, \"gridcolor\": \"white\", \"linecolor\": \"white\", \"ticks\": \"\", \"title\": {\"standoff\": 15}, \"zerolinecolor\": \"white\", \"zerolinewidth\": 2}, \"yaxis\": {\"automargin\": true, \"gridcolor\": \"white\", \"linecolor\": \"white\", \"ticks\": \"\", \"title\": {\"standoff\": 15}, \"zerolinecolor\": \"white\", \"zerolinewidth\": 2}}}, \"title\": {\"text\": \"Distribution of Number of Suppliers\"}},                        {\"responsive\": true}                    ).then(function(){\n",
       "                            \n",
       "var gd = document.getElementById('a3a4b6e3-8330-4192-a060-e59baaed564f');\n",
       "var x = new MutationObserver(function (mutations, observer) {{\n",
       "        var display = window.getComputedStyle(gd).display;\n",
       "        if (!display || display === 'none') {{\n",
       "            console.log([gd, 'removed!']);\n",
       "            Plotly.purge(gd);\n",
       "            observer.disconnect();\n",
       "        }}\n",
       "}});\n",
       "\n",
       "// Listen for the removal of the full notebook cells\n",
       "var notebookContainer = gd.closest('#notebook-container');\n",
       "if (notebookContainer) {{\n",
       "    x.observe(notebookContainer, {childList: true});\n",
       "}}\n",
       "\n",
       "// Listen for the clearing of the current output cell\n",
       "var outputEl = gd.closest('.output');\n",
       "if (outputEl) {{\n",
       "    x.observe(outputEl, {childList: true});\n",
       "}}\n",
       "\n",
       "                        })                };                });            </script>        </div>"
      ]
     },
     "metadata": {},
     "output_type": "display_data"
    }
   ],
   "source": [
    "\n",
    "fig = go.Figure(data=[go.Histogram(x=df['Suppliers'],\n",
    "                                  xbins=dict(size=5.0),)])\n",
    "\n",
    "fig.update_layout(title_text='Distribution of Number of Suppliers')\n",
    "    \n",
    "    \n",
    "fig.show()"
   ]
  },
  {
   "cell_type": "code",
   "execution_count": 14,
   "id": "b2c5a351",
   "metadata": {},
   "outputs": [
    {
     "data": {
      "text/html": [
       "<div>\n",
       "<style scoped>\n",
       "    .dataframe tbody tr th:only-of-type {\n",
       "        vertical-align: middle;\n",
       "    }\n",
       "\n",
       "    .dataframe tbody tr th {\n",
       "        vertical-align: top;\n",
       "    }\n",
       "\n",
       "    .dataframe thead th {\n",
       "        text-align: right;\n",
       "    }\n",
       "</style>\n",
       "<table border=\"1\" class=\"dataframe\">\n",
       "  <thead>\n",
       "    <tr style=\"text-align: right;\">\n",
       "      <th></th>\n",
       "      <th>StoreLocation</th>\n",
       "      <th>PurchasingDeptCost</th>\n",
       "      <th>MerchandisePurchased</th>\n",
       "      <th>PurchaseOrders</th>\n",
       "      <th>Suppliers</th>\n",
       "      <th>SuppliersReduction</th>\n",
       "      <th>SuppliersReductionPerc</th>\n",
       "    </tr>\n",
       "  </thead>\n",
       "  <tbody>\n",
       "    <tr>\n",
       "      <th>0</th>\n",
       "      <td>Sheridan, WY</td>\n",
       "      <td>575000</td>\n",
       "      <td>47239000</td>\n",
       "      <td>1708</td>\n",
       "      <td>61</td>\n",
       "      <td>0</td>\n",
       "      <td>0.000000</td>\n",
       "    </tr>\n",
       "    <tr>\n",
       "      <th>1</th>\n",
       "      <td>Denver</td>\n",
       "      <td>1226000</td>\n",
       "      <td>102364000</td>\n",
       "      <td>2519</td>\n",
       "      <td>95</td>\n",
       "      <td>0</td>\n",
       "      <td>0.000000</td>\n",
       "    </tr>\n",
       "    <tr>\n",
       "      <th>2</th>\n",
       "      <td>Salt Lake City</td>\n",
       "      <td>1710000</td>\n",
       "      <td>100162000</td>\n",
       "      <td>2506</td>\n",
       "      <td>139</td>\n",
       "      <td>14</td>\n",
       "      <td>10.071942</td>\n",
       "    </tr>\n",
       "    <tr>\n",
       "      <th>3</th>\n",
       "      <td>Kansas City</td>\n",
       "      <td>881000</td>\n",
       "      <td>95760000</td>\n",
       "      <td>1719</td>\n",
       "      <td>91</td>\n",
       "      <td>0</td>\n",
       "      <td>0.000000</td>\n",
       "    </tr>\n",
       "    <tr>\n",
       "      <th>4</th>\n",
       "      <td>Omaha</td>\n",
       "      <td>1544000</td>\n",
       "      <td>51466000</td>\n",
       "      <td>2883</td>\n",
       "      <td>155</td>\n",
       "      <td>30</td>\n",
       "      <td>19.354839</td>\n",
       "    </tr>\n",
       "    <tr>\n",
       "      <th>5</th>\n",
       "      <td>Milwaukee</td>\n",
       "      <td>794000</td>\n",
       "      <td>50631000</td>\n",
       "      <td>647</td>\n",
       "      <td>75</td>\n",
       "      <td>0</td>\n",
       "      <td>0.000000</td>\n",
       "    </tr>\n",
       "    <tr>\n",
       "      <th>6</th>\n",
       "      <td>Minneapolis</td>\n",
       "      <td>1341000</td>\n",
       "      <td>84753000</td>\n",
       "      <td>2978</td>\n",
       "      <td>103</td>\n",
       "      <td>0</td>\n",
       "      <td>0.000000</td>\n",
       "    </tr>\n",
       "    <tr>\n",
       "      <th>7</th>\n",
       "      <td>Phoenix</td>\n",
       "      <td>794000</td>\n",
       "      <td>103464000</td>\n",
       "      <td>3761</td>\n",
       "      <td>117</td>\n",
       "      <td>0</td>\n",
       "      <td>0.000000</td>\n",
       "    </tr>\n",
       "    <tr>\n",
       "      <th>9</th>\n",
       "      <td>Albuquerque</td>\n",
       "      <td>2030000</td>\n",
       "      <td>62364000</td>\n",
       "      <td>5497</td>\n",
       "      <td>176</td>\n",
       "      <td>51</td>\n",
       "      <td>28.977273</td>\n",
       "    </tr>\n",
       "    <tr>\n",
       "      <th>10</th>\n",
       "      <td>Tucson</td>\n",
       "      <td>1338000</td>\n",
       "      <td>65635000</td>\n",
       "      <td>4347</td>\n",
       "      <td>130</td>\n",
       "      <td>5</td>\n",
       "      <td>3.846154</td>\n",
       "    </tr>\n",
       "    <tr>\n",
       "      <th>11</th>\n",
       "      <td>Houston</td>\n",
       "      <td>856000</td>\n",
       "      <td>88524000</td>\n",
       "      <td>2878</td>\n",
       "      <td>62</td>\n",
       "      <td>0</td>\n",
       "      <td>0.000000</td>\n",
       "    </tr>\n",
       "    <tr>\n",
       "      <th>12</th>\n",
       "      <td>Oklahoma City</td>\n",
       "      <td>1122000</td>\n",
       "      <td>72645000</td>\n",
       "      <td>819</td>\n",
       "      <td>129</td>\n",
       "      <td>4</td>\n",
       "      <td>3.100775</td>\n",
       "    </tr>\n",
       "    <tr>\n",
       "      <th>13</th>\n",
       "      <td>Tulsa</td>\n",
       "      <td>863000</td>\n",
       "      <td>61638000</td>\n",
       "      <td>1247</td>\n",
       "      <td>145</td>\n",
       "      <td>20</td>\n",
       "      <td>13.793103</td>\n",
       "    </tr>\n",
       "    <tr>\n",
       "      <th>14</th>\n",
       "      <td>Dallas</td>\n",
       "      <td>1085000</td>\n",
       "      <td>105666000</td>\n",
       "      <td>2162</td>\n",
       "      <td>141</td>\n",
       "      <td>16</td>\n",
       "      <td>11.347518</td>\n",
       "    </tr>\n",
       "    <tr>\n",
       "      <th>15</th>\n",
       "      <td>San Antonio</td>\n",
       "      <td>952000</td>\n",
       "      <td>59437000</td>\n",
       "      <td>2822</td>\n",
       "      <td>105</td>\n",
       "      <td>0</td>\n",
       "      <td>0.000000</td>\n",
       "    </tr>\n",
       "    <tr>\n",
       "      <th>16</th>\n",
       "      <td>Austin</td>\n",
       "      <td>1134000</td>\n",
       "      <td>38542000</td>\n",
       "      <td>5115</td>\n",
       "      <td>51</td>\n",
       "      <td>0</td>\n",
       "      <td>0.000000</td>\n",
       "    </tr>\n",
       "    <tr>\n",
       "      <th>17</th>\n",
       "      <td>El Paso</td>\n",
       "      <td>1042000</td>\n",
       "      <td>33020000</td>\n",
       "      <td>382</td>\n",
       "      <td>131</td>\n",
       "      <td>6</td>\n",
       "      <td>4.580153</td>\n",
       "    </tr>\n",
       "    <tr>\n",
       "      <th>18</th>\n",
       "      <td>Nashville</td>\n",
       "      <td>1634000</td>\n",
       "      <td>36322000</td>\n",
       "      <td>5293</td>\n",
       "      <td>172</td>\n",
       "      <td>47</td>\n",
       "      <td>27.325581</td>\n",
       "    </tr>\n",
       "    <tr>\n",
       "      <th>19</th>\n",
       "      <td>Memphis</td>\n",
       "      <td>699000</td>\n",
       "      <td>34121000</td>\n",
       "      <td>967</td>\n",
       "      <td>34</td>\n",
       "      <td>0</td>\n",
       "      <td>0.000000</td>\n",
       "    </tr>\n",
       "    <tr>\n",
       "      <th>20</th>\n",
       "      <td>Indianapolis</td>\n",
       "      <td>875000</td>\n",
       "      <td>31920000</td>\n",
       "      <td>2425</td>\n",
       "      <td>48</td>\n",
       "      <td>0</td>\n",
       "      <td>0.000000</td>\n",
       "    </tr>\n",
       "  </tbody>\n",
       "</table>\n",
       "</div>"
      ],
      "text/plain": [
       "     StoreLocation  PurchasingDeptCost  MerchandisePurchased  PurchaseOrders  \\\n",
       "0     Sheridan, WY              575000              47239000            1708   \n",
       "1           Denver             1226000             102364000            2519   \n",
       "2   Salt Lake City             1710000             100162000            2506   \n",
       "3      Kansas City              881000              95760000            1719   \n",
       "4            Omaha             1544000              51466000            2883   \n",
       "5        Milwaukee              794000              50631000             647   \n",
       "6      Minneapolis             1341000              84753000            2978   \n",
       "7          Phoenix              794000             103464000            3761   \n",
       "9      Albuquerque             2030000              62364000            5497   \n",
       "10          Tucson             1338000              65635000            4347   \n",
       "11         Houston              856000              88524000            2878   \n",
       "12   Oklahoma City             1122000              72645000             819   \n",
       "13           Tulsa              863000              61638000            1247   \n",
       "14          Dallas             1085000             105666000            2162   \n",
       "15     San Antonio              952000              59437000            2822   \n",
       "16          Austin             1134000              38542000            5115   \n",
       "17         El Paso             1042000              33020000             382   \n",
       "18       Nashville             1634000              36322000            5293   \n",
       "19         Memphis              699000              34121000             967   \n",
       "20    Indianapolis              875000              31920000            2425   \n",
       "\n",
       "    Suppliers  SuppliersReduction  SuppliersReductionPerc  \n",
       "0          61                   0                0.000000  \n",
       "1          95                   0                0.000000  \n",
       "2         139                  14               10.071942  \n",
       "3          91                   0                0.000000  \n",
       "4         155                  30               19.354839  \n",
       "5          75                   0                0.000000  \n",
       "6         103                   0                0.000000  \n",
       "7         117                   0                0.000000  \n",
       "9         176                  51               28.977273  \n",
       "10        130                   5                3.846154  \n",
       "11         62                   0                0.000000  \n",
       "12        129                   4                3.100775  \n",
       "13        145                  20               13.793103  \n",
       "14        141                  16               11.347518  \n",
       "15        105                   0                0.000000  \n",
       "16         51                   0                0.000000  \n",
       "17        131                   6                4.580153  \n",
       "18        172                  47               27.325581  \n",
       "19         34                   0                0.000000  \n",
       "20         48                   0                0.000000  "
      ]
     },
     "execution_count": 14,
     "metadata": {},
     "output_type": "execute_result"
    }
   ],
   "source": [
    "df['SuppliersReduction'] = df['Suppliers']-125\n",
    "df.loc[df['SuppliersReduction']<0,'SuppliersReduction']=0\n",
    "df['SuppliersReductionPerc']= df['SuppliersReduction']/df['Suppliers']*100\n",
    "df"
   ]
  },
  {
   "cell_type": "code",
   "execution_count": 15,
   "id": "1875759a",
   "metadata": {},
   "outputs": [
    {
     "data": {
      "text/plain": [
       "9"
      ]
     },
     "execution_count": 15,
     "metadata": {},
     "output_type": "execute_result"
    }
   ],
   "source": [
    "np.sum(df['SuppliersReduction']>0)"
   ]
  },
  {
   "cell_type": "code",
   "execution_count": 16,
   "id": "f9f1f22f",
   "metadata": {},
   "outputs": [
    {
     "data": {
      "text/html": [
       "<div>\n",
       "<style scoped>\n",
       "    .dataframe tbody tr th:only-of-type {\n",
       "        vertical-align: middle;\n",
       "    }\n",
       "\n",
       "    .dataframe tbody tr th {\n",
       "        vertical-align: top;\n",
       "    }\n",
       "\n",
       "    .dataframe thead th {\n",
       "        text-align: right;\n",
       "    }\n",
       "</style>\n",
       "<table border=\"1\" class=\"dataframe\">\n",
       "  <thead>\n",
       "    <tr style=\"text-align: right;\">\n",
       "      <th></th>\n",
       "      <th>StoreLocation</th>\n",
       "      <th>PurchasingDeptCost</th>\n",
       "      <th>MerchandisePurchased</th>\n",
       "      <th>PurchaseOrders</th>\n",
       "      <th>Suppliers</th>\n",
       "      <th>SuppliersReduction</th>\n",
       "      <th>SuppliersReductionPerc</th>\n",
       "      <th>SuppliersReduction1</th>\n",
       "    </tr>\n",
       "  </thead>\n",
       "  <tbody>\n",
       "    <tr>\n",
       "      <th>0</th>\n",
       "      <td>Sheridan, WY</td>\n",
       "      <td>575000</td>\n",
       "      <td>47239000</td>\n",
       "      <td>1708</td>\n",
       "      <td>61</td>\n",
       "      <td>0</td>\n",
       "      <td>0.000000</td>\n",
       "      <td>0.0</td>\n",
       "    </tr>\n",
       "    <tr>\n",
       "      <th>1</th>\n",
       "      <td>Denver</td>\n",
       "      <td>1226000</td>\n",
       "      <td>102364000</td>\n",
       "      <td>2519</td>\n",
       "      <td>95</td>\n",
       "      <td>0</td>\n",
       "      <td>0.000000</td>\n",
       "      <td>0.0</td>\n",
       "    </tr>\n",
       "    <tr>\n",
       "      <th>2</th>\n",
       "      <td>Salt Lake City</td>\n",
       "      <td>1710000</td>\n",
       "      <td>100162000</td>\n",
       "      <td>2506</td>\n",
       "      <td>139</td>\n",
       "      <td>14</td>\n",
       "      <td>10.071942</td>\n",
       "      <td>14.0</td>\n",
       "    </tr>\n",
       "    <tr>\n",
       "      <th>3</th>\n",
       "      <td>Kansas City</td>\n",
       "      <td>881000</td>\n",
       "      <td>95760000</td>\n",
       "      <td>1719</td>\n",
       "      <td>91</td>\n",
       "      <td>0</td>\n",
       "      <td>0.000000</td>\n",
       "      <td>0.0</td>\n",
       "    </tr>\n",
       "    <tr>\n",
       "      <th>4</th>\n",
       "      <td>Omaha</td>\n",
       "      <td>1544000</td>\n",
       "      <td>51466000</td>\n",
       "      <td>2883</td>\n",
       "      <td>155</td>\n",
       "      <td>30</td>\n",
       "      <td>19.354839</td>\n",
       "      <td>23.0</td>\n",
       "    </tr>\n",
       "    <tr>\n",
       "      <th>5</th>\n",
       "      <td>Milwaukee</td>\n",
       "      <td>794000</td>\n",
       "      <td>50631000</td>\n",
       "      <td>647</td>\n",
       "      <td>75</td>\n",
       "      <td>0</td>\n",
       "      <td>0.000000</td>\n",
       "      <td>0.0</td>\n",
       "    </tr>\n",
       "    <tr>\n",
       "      <th>6</th>\n",
       "      <td>Minneapolis</td>\n",
       "      <td>1341000</td>\n",
       "      <td>84753000</td>\n",
       "      <td>2978</td>\n",
       "      <td>103</td>\n",
       "      <td>0</td>\n",
       "      <td>0.000000</td>\n",
       "      <td>0.0</td>\n",
       "    </tr>\n",
       "    <tr>\n",
       "      <th>7</th>\n",
       "      <td>Phoenix</td>\n",
       "      <td>794000</td>\n",
       "      <td>103464000</td>\n",
       "      <td>3761</td>\n",
       "      <td>117</td>\n",
       "      <td>0</td>\n",
       "      <td>0.000000</td>\n",
       "      <td>0.0</td>\n",
       "    </tr>\n",
       "    <tr>\n",
       "      <th>9</th>\n",
       "      <td>Albuquerque</td>\n",
       "      <td>2030000</td>\n",
       "      <td>62364000</td>\n",
       "      <td>5497</td>\n",
       "      <td>176</td>\n",
       "      <td>51</td>\n",
       "      <td>28.977273</td>\n",
       "      <td>26.0</td>\n",
       "    </tr>\n",
       "    <tr>\n",
       "      <th>10</th>\n",
       "      <td>Tucson</td>\n",
       "      <td>1338000</td>\n",
       "      <td>65635000</td>\n",
       "      <td>4347</td>\n",
       "      <td>130</td>\n",
       "      <td>5</td>\n",
       "      <td>3.846154</td>\n",
       "      <td>5.0</td>\n",
       "    </tr>\n",
       "    <tr>\n",
       "      <th>11</th>\n",
       "      <td>Houston</td>\n",
       "      <td>856000</td>\n",
       "      <td>88524000</td>\n",
       "      <td>2878</td>\n",
       "      <td>62</td>\n",
       "      <td>0</td>\n",
       "      <td>0.000000</td>\n",
       "      <td>0.0</td>\n",
       "    </tr>\n",
       "    <tr>\n",
       "      <th>12</th>\n",
       "      <td>Oklahoma City</td>\n",
       "      <td>1122000</td>\n",
       "      <td>72645000</td>\n",
       "      <td>819</td>\n",
       "      <td>129</td>\n",
       "      <td>4</td>\n",
       "      <td>3.100775</td>\n",
       "      <td>4.0</td>\n",
       "    </tr>\n",
       "    <tr>\n",
       "      <th>13</th>\n",
       "      <td>Tulsa</td>\n",
       "      <td>863000</td>\n",
       "      <td>61638000</td>\n",
       "      <td>1247</td>\n",
       "      <td>145</td>\n",
       "      <td>20</td>\n",
       "      <td>13.793103</td>\n",
       "      <td>20.0</td>\n",
       "    </tr>\n",
       "    <tr>\n",
       "      <th>14</th>\n",
       "      <td>Dallas</td>\n",
       "      <td>1085000</td>\n",
       "      <td>105666000</td>\n",
       "      <td>2162</td>\n",
       "      <td>141</td>\n",
       "      <td>16</td>\n",
       "      <td>11.347518</td>\n",
       "      <td>16.0</td>\n",
       "    </tr>\n",
       "    <tr>\n",
       "      <th>15</th>\n",
       "      <td>San Antonio</td>\n",
       "      <td>952000</td>\n",
       "      <td>59437000</td>\n",
       "      <td>2822</td>\n",
       "      <td>105</td>\n",
       "      <td>0</td>\n",
       "      <td>0.000000</td>\n",
       "      <td>0.0</td>\n",
       "    </tr>\n",
       "    <tr>\n",
       "      <th>16</th>\n",
       "      <td>Austin</td>\n",
       "      <td>1134000</td>\n",
       "      <td>38542000</td>\n",
       "      <td>5115</td>\n",
       "      <td>51</td>\n",
       "      <td>0</td>\n",
       "      <td>0.000000</td>\n",
       "      <td>0.0</td>\n",
       "    </tr>\n",
       "    <tr>\n",
       "      <th>17</th>\n",
       "      <td>El Paso</td>\n",
       "      <td>1042000</td>\n",
       "      <td>33020000</td>\n",
       "      <td>382</td>\n",
       "      <td>131</td>\n",
       "      <td>6</td>\n",
       "      <td>4.580153</td>\n",
       "      <td>6.0</td>\n",
       "    </tr>\n",
       "    <tr>\n",
       "      <th>18</th>\n",
       "      <td>Nashville</td>\n",
       "      <td>1634000</td>\n",
       "      <td>36322000</td>\n",
       "      <td>5293</td>\n",
       "      <td>172</td>\n",
       "      <td>47</td>\n",
       "      <td>27.325581</td>\n",
       "      <td>26.0</td>\n",
       "    </tr>\n",
       "    <tr>\n",
       "      <th>19</th>\n",
       "      <td>Memphis</td>\n",
       "      <td>699000</td>\n",
       "      <td>34121000</td>\n",
       "      <td>967</td>\n",
       "      <td>34</td>\n",
       "      <td>0</td>\n",
       "      <td>0.000000</td>\n",
       "      <td>0.0</td>\n",
       "    </tr>\n",
       "    <tr>\n",
       "      <th>20</th>\n",
       "      <td>Indianapolis</td>\n",
       "      <td>875000</td>\n",
       "      <td>31920000</td>\n",
       "      <td>2425</td>\n",
       "      <td>48</td>\n",
       "      <td>0</td>\n",
       "      <td>0.000000</td>\n",
       "      <td>0.0</td>\n",
       "    </tr>\n",
       "  </tbody>\n",
       "</table>\n",
       "</div>"
      ],
      "text/plain": [
       "     StoreLocation  PurchasingDeptCost  MerchandisePurchased  PurchaseOrders  \\\n",
       "0     Sheridan, WY              575000              47239000            1708   \n",
       "1           Denver             1226000             102364000            2519   \n",
       "2   Salt Lake City             1710000             100162000            2506   \n",
       "3      Kansas City              881000              95760000            1719   \n",
       "4            Omaha             1544000              51466000            2883   \n",
       "5        Milwaukee              794000              50631000             647   \n",
       "6      Minneapolis             1341000              84753000            2978   \n",
       "7          Phoenix              794000             103464000            3761   \n",
       "9      Albuquerque             2030000              62364000            5497   \n",
       "10          Tucson             1338000              65635000            4347   \n",
       "11         Houston              856000              88524000            2878   \n",
       "12   Oklahoma City             1122000              72645000             819   \n",
       "13           Tulsa              863000              61638000            1247   \n",
       "14          Dallas             1085000             105666000            2162   \n",
       "15     San Antonio              952000              59437000            2822   \n",
       "16          Austin             1134000              38542000            5115   \n",
       "17         El Paso             1042000              33020000             382   \n",
       "18       Nashville             1634000              36322000            5293   \n",
       "19         Memphis              699000              34121000             967   \n",
       "20    Indianapolis              875000              31920000            2425   \n",
       "\n",
       "    Suppliers  SuppliersReduction  SuppliersReductionPerc  SuppliersReduction1  \n",
       "0          61                   0                0.000000                  0.0  \n",
       "1          95                   0                0.000000                  0.0  \n",
       "2         139                  14               10.071942                 14.0  \n",
       "3          91                   0                0.000000                  0.0  \n",
       "4         155                  30               19.354839                 23.0  \n",
       "5          75                   0                0.000000                  0.0  \n",
       "6         103                   0                0.000000                  0.0  \n",
       "7         117                   0                0.000000                  0.0  \n",
       "9         176                  51               28.977273                 26.0  \n",
       "10        130                   5                3.846154                  5.0  \n",
       "11         62                   0                0.000000                  0.0  \n",
       "12        129                   4                3.100775                  4.0  \n",
       "13        145                  20               13.793103                 20.0  \n",
       "14        141                  16               11.347518                 16.0  \n",
       "15        105                   0                0.000000                  0.0  \n",
       "16         51                   0                0.000000                  0.0  \n",
       "17        131                   6                4.580153                  6.0  \n",
       "18        172                  47               27.325581                 26.0  \n",
       "19         34                   0                0.000000                  0.0  \n",
       "20         48                   0                0.000000                  0.0  "
      ]
     },
     "execution_count": 16,
     "metadata": {},
     "output_type": "execute_result"
    }
   ],
   "source": [
    "df['SuppliersReduction1'] = df['SuppliersReduction']\n",
    "df.loc[df['Suppliers']>150,'SuppliersReduction1']=round(df['Suppliers']*0.15)\n",
    "df"
   ]
  },
  {
   "cell_type": "code",
   "execution_count": 17,
   "id": "15890c7c",
   "metadata": {},
   "outputs": [
    {
     "name": "stdout",
     "output_type": "stream",
     "text": [
      "In the first 6 months, the number of suppliers is reduced by 140.0 .\n",
      "This results in estimated cost savings of 700000.0 USD per year.\n",
      "After 12 months, suppliers will be reduced by 193 in total.\n",
      "A conservative estimate of the total cost savings from reducing suppliers is 965000 USD per year.\n"
     ]
    }
   ],
   "source": [
    "print('In the first 6 months, the number of suppliers is reduced by', np.sum(df['SuppliersReduction1']),'.')\n",
    "print('This results in estimated cost savings of'  ,np.sum(df['SuppliersReduction1'])*5000, 'USD per year.')\n",
    "\n",
    "print('After 12 months, suppliers will be reduced by', np.sum(df['SuppliersReduction']),'in total.')\n",
    "print('A conservative estimate of the total cost savings from reducing suppliers is'  ,np.sum(df['SuppliersReduction'])*5000, 'USD per year.')"
   ]
  },
  {
   "cell_type": "markdown",
   "id": "28de55df",
   "metadata": {},
   "source": [
    "DO SOME RECOMMENDATIONS!!!"
   ]
  },
  {
   "cell_type": "markdown",
   "id": "04a987b8",
   "metadata": {},
   "source": [
    "[[Back to TOC]](#Table-of-Contents)"
   ]
  },
  {
   "cell_type": "markdown",
   "id": "7faef1d2",
   "metadata": {},
   "source": [
    "### Number of Purchase Orders"
   ]
  },
  {
   "cell_type": "markdown",
   "id": "13d18562",
   "metadata": {},
   "source": [
    "As stores increase in size, the number of purchase orders is expected to increase. Thus, a better metric for analyzing purchase order activity is the average merchandise purchased per purchase order (MP/PO). Across all stores, the MP/PO ranged from 6,862 USD to 88,699 USD. Two stores were particularly low (under 10,000 USD), and four more were somewhat underachieving (under 20,000 USD).\n",
    "\n",
    "- We want high numbers of purchase orders because it means we have less inventory(?)"
   ]
  },
  {
   "cell_type": "code",
   "execution_count": 29,
   "id": "fd3317b1",
   "metadata": {},
   "outputs": [
    {
     "data": {
      "text/plain": [
       "count       20.000000\n",
       "mean     36529.955737\n",
       "std      25002.660048\n",
       "min       6862.270924\n",
       "25%      17163.387347\n",
       "50%      29609.282410\n",
       "75%      49012.900341\n",
       "max      88699.633700\n",
       "Name: MPPO, dtype: float64"
      ]
     },
     "execution_count": 29,
     "metadata": {},
     "output_type": "execute_result"
    }
   ],
   "source": [
    "df['MPPO']=df['MerchandisePurchased']/df['PurchaseOrders']\n",
    "df['MPPO'].describe()"
   ]
  },
  {
   "cell_type": "code",
   "execution_count": 30,
   "id": "d91e864f",
   "metadata": {},
   "outputs": [
    {
     "data": {
      "application/vnd.plotly.v1+json": {
       "config": {
        "plotlyServerURL": "https://plot.ly"
       },
       "data": [
        {
         "type": "histogram",
         "x": [
          27657.494145199063,
          40636.76061929337,
          39968.874700718276,
          55706.806282722515,
          17851.54353104405,
          78255.0231839258,
          28459.704499664203,
          27509.7048657272,
          11345.09732581408,
          15098.91879457097,
          30758.860319666433,
          88699.6336996337,
          49429.029671210905,
          48874.19056429232,
          21062.012756909993,
          7535.092864125122,
          86439.79057591622,
          6862.270923861704,
          35285.41882109617,
          13162.886597938144
         ],
         "xbins": {
          "size": 10000
         }
        }
       ],
       "layout": {
        "template": {
         "data": {
          "bar": [
           {
            "error_x": {
             "color": "#2a3f5f"
            },
            "error_y": {
             "color": "#2a3f5f"
            },
            "marker": {
             "line": {
              "color": "#E5ECF6",
              "width": 0.5
             }
            },
            "type": "bar"
           }
          ],
          "barpolar": [
           {
            "marker": {
             "line": {
              "color": "#E5ECF6",
              "width": 0.5
             }
            },
            "type": "barpolar"
           }
          ],
          "carpet": [
           {
            "aaxis": {
             "endlinecolor": "#2a3f5f",
             "gridcolor": "white",
             "linecolor": "white",
             "minorgridcolor": "white",
             "startlinecolor": "#2a3f5f"
            },
            "baxis": {
             "endlinecolor": "#2a3f5f",
             "gridcolor": "white",
             "linecolor": "white",
             "minorgridcolor": "white",
             "startlinecolor": "#2a3f5f"
            },
            "type": "carpet"
           }
          ],
          "choropleth": [
           {
            "colorbar": {
             "outlinewidth": 0,
             "ticks": ""
            },
            "type": "choropleth"
           }
          ],
          "contour": [
           {
            "colorbar": {
             "outlinewidth": 0,
             "ticks": ""
            },
            "colorscale": [
             [
              0,
              "#0d0887"
             ],
             [
              0.1111111111111111,
              "#46039f"
             ],
             [
              0.2222222222222222,
              "#7201a8"
             ],
             [
              0.3333333333333333,
              "#9c179e"
             ],
             [
              0.4444444444444444,
              "#bd3786"
             ],
             [
              0.5555555555555556,
              "#d8576b"
             ],
             [
              0.6666666666666666,
              "#ed7953"
             ],
             [
              0.7777777777777778,
              "#fb9f3a"
             ],
             [
              0.8888888888888888,
              "#fdca26"
             ],
             [
              1,
              "#f0f921"
             ]
            ],
            "type": "contour"
           }
          ],
          "contourcarpet": [
           {
            "colorbar": {
             "outlinewidth": 0,
             "ticks": ""
            },
            "type": "contourcarpet"
           }
          ],
          "heatmap": [
           {
            "colorbar": {
             "outlinewidth": 0,
             "ticks": ""
            },
            "colorscale": [
             [
              0,
              "#0d0887"
             ],
             [
              0.1111111111111111,
              "#46039f"
             ],
             [
              0.2222222222222222,
              "#7201a8"
             ],
             [
              0.3333333333333333,
              "#9c179e"
             ],
             [
              0.4444444444444444,
              "#bd3786"
             ],
             [
              0.5555555555555556,
              "#d8576b"
             ],
             [
              0.6666666666666666,
              "#ed7953"
             ],
             [
              0.7777777777777778,
              "#fb9f3a"
             ],
             [
              0.8888888888888888,
              "#fdca26"
             ],
             [
              1,
              "#f0f921"
             ]
            ],
            "type": "heatmap"
           }
          ],
          "heatmapgl": [
           {
            "colorbar": {
             "outlinewidth": 0,
             "ticks": ""
            },
            "colorscale": [
             [
              0,
              "#0d0887"
             ],
             [
              0.1111111111111111,
              "#46039f"
             ],
             [
              0.2222222222222222,
              "#7201a8"
             ],
             [
              0.3333333333333333,
              "#9c179e"
             ],
             [
              0.4444444444444444,
              "#bd3786"
             ],
             [
              0.5555555555555556,
              "#d8576b"
             ],
             [
              0.6666666666666666,
              "#ed7953"
             ],
             [
              0.7777777777777778,
              "#fb9f3a"
             ],
             [
              0.8888888888888888,
              "#fdca26"
             ],
             [
              1,
              "#f0f921"
             ]
            ],
            "type": "heatmapgl"
           }
          ],
          "histogram": [
           {
            "marker": {
             "colorbar": {
              "outlinewidth": 0,
              "ticks": ""
             }
            },
            "type": "histogram"
           }
          ],
          "histogram2d": [
           {
            "colorbar": {
             "outlinewidth": 0,
             "ticks": ""
            },
            "colorscale": [
             [
              0,
              "#0d0887"
             ],
             [
              0.1111111111111111,
              "#46039f"
             ],
             [
              0.2222222222222222,
              "#7201a8"
             ],
             [
              0.3333333333333333,
              "#9c179e"
             ],
             [
              0.4444444444444444,
              "#bd3786"
             ],
             [
              0.5555555555555556,
              "#d8576b"
             ],
             [
              0.6666666666666666,
              "#ed7953"
             ],
             [
              0.7777777777777778,
              "#fb9f3a"
             ],
             [
              0.8888888888888888,
              "#fdca26"
             ],
             [
              1,
              "#f0f921"
             ]
            ],
            "type": "histogram2d"
           }
          ],
          "histogram2dcontour": [
           {
            "colorbar": {
             "outlinewidth": 0,
             "ticks": ""
            },
            "colorscale": [
             [
              0,
              "#0d0887"
             ],
             [
              0.1111111111111111,
              "#46039f"
             ],
             [
              0.2222222222222222,
              "#7201a8"
             ],
             [
              0.3333333333333333,
              "#9c179e"
             ],
             [
              0.4444444444444444,
              "#bd3786"
             ],
             [
              0.5555555555555556,
              "#d8576b"
             ],
             [
              0.6666666666666666,
              "#ed7953"
             ],
             [
              0.7777777777777778,
              "#fb9f3a"
             ],
             [
              0.8888888888888888,
              "#fdca26"
             ],
             [
              1,
              "#f0f921"
             ]
            ],
            "type": "histogram2dcontour"
           }
          ],
          "mesh3d": [
           {
            "colorbar": {
             "outlinewidth": 0,
             "ticks": ""
            },
            "type": "mesh3d"
           }
          ],
          "parcoords": [
           {
            "line": {
             "colorbar": {
              "outlinewidth": 0,
              "ticks": ""
             }
            },
            "type": "parcoords"
           }
          ],
          "pie": [
           {
            "automargin": true,
            "type": "pie"
           }
          ],
          "scatter": [
           {
            "marker": {
             "colorbar": {
              "outlinewidth": 0,
              "ticks": ""
             }
            },
            "type": "scatter"
           }
          ],
          "scatter3d": [
           {
            "line": {
             "colorbar": {
              "outlinewidth": 0,
              "ticks": ""
             }
            },
            "marker": {
             "colorbar": {
              "outlinewidth": 0,
              "ticks": ""
             }
            },
            "type": "scatter3d"
           }
          ],
          "scattercarpet": [
           {
            "marker": {
             "colorbar": {
              "outlinewidth": 0,
              "ticks": ""
             }
            },
            "type": "scattercarpet"
           }
          ],
          "scattergeo": [
           {
            "marker": {
             "colorbar": {
              "outlinewidth": 0,
              "ticks": ""
             }
            },
            "type": "scattergeo"
           }
          ],
          "scattergl": [
           {
            "marker": {
             "colorbar": {
              "outlinewidth": 0,
              "ticks": ""
             }
            },
            "type": "scattergl"
           }
          ],
          "scattermapbox": [
           {
            "marker": {
             "colorbar": {
              "outlinewidth": 0,
              "ticks": ""
             }
            },
            "type": "scattermapbox"
           }
          ],
          "scatterpolar": [
           {
            "marker": {
             "colorbar": {
              "outlinewidth": 0,
              "ticks": ""
             }
            },
            "type": "scatterpolar"
           }
          ],
          "scatterpolargl": [
           {
            "marker": {
             "colorbar": {
              "outlinewidth": 0,
              "ticks": ""
             }
            },
            "type": "scatterpolargl"
           }
          ],
          "scatterternary": [
           {
            "marker": {
             "colorbar": {
              "outlinewidth": 0,
              "ticks": ""
             }
            },
            "type": "scatterternary"
           }
          ],
          "surface": [
           {
            "colorbar": {
             "outlinewidth": 0,
             "ticks": ""
            },
            "colorscale": [
             [
              0,
              "#0d0887"
             ],
             [
              0.1111111111111111,
              "#46039f"
             ],
             [
              0.2222222222222222,
              "#7201a8"
             ],
             [
              0.3333333333333333,
              "#9c179e"
             ],
             [
              0.4444444444444444,
              "#bd3786"
             ],
             [
              0.5555555555555556,
              "#d8576b"
             ],
             [
              0.6666666666666666,
              "#ed7953"
             ],
             [
              0.7777777777777778,
              "#fb9f3a"
             ],
             [
              0.8888888888888888,
              "#fdca26"
             ],
             [
              1,
              "#f0f921"
             ]
            ],
            "type": "surface"
           }
          ],
          "table": [
           {
            "cells": {
             "fill": {
              "color": "#EBF0F8"
             },
             "line": {
              "color": "white"
             }
            },
            "header": {
             "fill": {
              "color": "#C8D4E3"
             },
             "line": {
              "color": "white"
             }
            },
            "type": "table"
           }
          ]
         },
         "layout": {
          "annotationdefaults": {
           "arrowcolor": "#2a3f5f",
           "arrowhead": 0,
           "arrowwidth": 1
          },
          "autotypenumbers": "strict",
          "coloraxis": {
           "colorbar": {
            "outlinewidth": 0,
            "ticks": ""
           }
          },
          "colorscale": {
           "diverging": [
            [
             0,
             "#8e0152"
            ],
            [
             0.1,
             "#c51b7d"
            ],
            [
             0.2,
             "#de77ae"
            ],
            [
             0.3,
             "#f1b6da"
            ],
            [
             0.4,
             "#fde0ef"
            ],
            [
             0.5,
             "#f7f7f7"
            ],
            [
             0.6,
             "#e6f5d0"
            ],
            [
             0.7,
             "#b8e186"
            ],
            [
             0.8,
             "#7fbc41"
            ],
            [
             0.9,
             "#4d9221"
            ],
            [
             1,
             "#276419"
            ]
           ],
           "sequential": [
            [
             0,
             "#0d0887"
            ],
            [
             0.1111111111111111,
             "#46039f"
            ],
            [
             0.2222222222222222,
             "#7201a8"
            ],
            [
             0.3333333333333333,
             "#9c179e"
            ],
            [
             0.4444444444444444,
             "#bd3786"
            ],
            [
             0.5555555555555556,
             "#d8576b"
            ],
            [
             0.6666666666666666,
             "#ed7953"
            ],
            [
             0.7777777777777778,
             "#fb9f3a"
            ],
            [
             0.8888888888888888,
             "#fdca26"
            ],
            [
             1,
             "#f0f921"
            ]
           ],
           "sequentialminus": [
            [
             0,
             "#0d0887"
            ],
            [
             0.1111111111111111,
             "#46039f"
            ],
            [
             0.2222222222222222,
             "#7201a8"
            ],
            [
             0.3333333333333333,
             "#9c179e"
            ],
            [
             0.4444444444444444,
             "#bd3786"
            ],
            [
             0.5555555555555556,
             "#d8576b"
            ],
            [
             0.6666666666666666,
             "#ed7953"
            ],
            [
             0.7777777777777778,
             "#fb9f3a"
            ],
            [
             0.8888888888888888,
             "#fdca26"
            ],
            [
             1,
             "#f0f921"
            ]
           ]
          },
          "colorway": [
           "#636efa",
           "#EF553B",
           "#00cc96",
           "#ab63fa",
           "#FFA15A",
           "#19d3f3",
           "#FF6692",
           "#B6E880",
           "#FF97FF",
           "#FECB52"
          ],
          "font": {
           "color": "#2a3f5f"
          },
          "geo": {
           "bgcolor": "white",
           "lakecolor": "white",
           "landcolor": "#E5ECF6",
           "showlakes": true,
           "showland": true,
           "subunitcolor": "white"
          },
          "hoverlabel": {
           "align": "left"
          },
          "hovermode": "closest",
          "mapbox": {
           "style": "light"
          },
          "paper_bgcolor": "white",
          "plot_bgcolor": "#E5ECF6",
          "polar": {
           "angularaxis": {
            "gridcolor": "white",
            "linecolor": "white",
            "ticks": ""
           },
           "bgcolor": "#E5ECF6",
           "radialaxis": {
            "gridcolor": "white",
            "linecolor": "white",
            "ticks": ""
           }
          },
          "scene": {
           "xaxis": {
            "backgroundcolor": "#E5ECF6",
            "gridcolor": "white",
            "gridwidth": 2,
            "linecolor": "white",
            "showbackground": true,
            "ticks": "",
            "zerolinecolor": "white"
           },
           "yaxis": {
            "backgroundcolor": "#E5ECF6",
            "gridcolor": "white",
            "gridwidth": 2,
            "linecolor": "white",
            "showbackground": true,
            "ticks": "",
            "zerolinecolor": "white"
           },
           "zaxis": {
            "backgroundcolor": "#E5ECF6",
            "gridcolor": "white",
            "gridwidth": 2,
            "linecolor": "white",
            "showbackground": true,
            "ticks": "",
            "zerolinecolor": "white"
           }
          },
          "shapedefaults": {
           "line": {
            "color": "#2a3f5f"
           }
          },
          "ternary": {
           "aaxis": {
            "gridcolor": "white",
            "linecolor": "white",
            "ticks": ""
           },
           "baxis": {
            "gridcolor": "white",
            "linecolor": "white",
            "ticks": ""
           },
           "bgcolor": "#E5ECF6",
           "caxis": {
            "gridcolor": "white",
            "linecolor": "white",
            "ticks": ""
           }
          },
          "title": {
           "x": 0.05
          },
          "xaxis": {
           "automargin": true,
           "gridcolor": "white",
           "linecolor": "white",
           "ticks": "",
           "title": {
            "standoff": 15
           },
           "zerolinecolor": "white",
           "zerolinewidth": 2
          },
          "yaxis": {
           "automargin": true,
           "gridcolor": "white",
           "linecolor": "white",
           "ticks": "",
           "title": {
            "standoff": 15
           },
           "zerolinecolor": "white",
           "zerolinewidth": 2
          }
         }
        },
        "title": {
         "text": "Distribution of Merchandise Purchased per Purchase Order"
        }
       }
      },
      "text/html": [
       "<div>                            <div id=\"d2230098-4f36-4026-b9ac-7acf11c8473a\" class=\"plotly-graph-div\" style=\"height:525px; width:100%;\"></div>            <script type=\"text/javascript\">                require([\"plotly\"], function(Plotly) {                    window.PLOTLYENV=window.PLOTLYENV || {};                                    if (document.getElementById(\"d2230098-4f36-4026-b9ac-7acf11c8473a\")) {                    Plotly.newPlot(                        \"d2230098-4f36-4026-b9ac-7acf11c8473a\",                        [{\"type\": \"histogram\", \"x\": [27657.494145199063, 40636.76061929337, 39968.874700718276, 55706.806282722515, 17851.54353104405, 78255.0231839258, 28459.704499664203, 27509.7048657272, 11345.09732581408, 15098.91879457097, 30758.860319666433, 88699.6336996337, 49429.029671210905, 48874.19056429232, 21062.012756909993, 7535.092864125122, 86439.79057591622, 6862.270923861704, 35285.41882109617, 13162.886597938144], \"xbins\": {\"size\": 10000.0}}],                        {\"template\": {\"data\": {\"bar\": [{\"error_x\": {\"color\": \"#2a3f5f\"}, \"error_y\": {\"color\": \"#2a3f5f\"}, \"marker\": {\"line\": {\"color\": \"#E5ECF6\", \"width\": 0.5}}, \"type\": \"bar\"}], \"barpolar\": [{\"marker\": {\"line\": {\"color\": \"#E5ECF6\", \"width\": 0.5}}, \"type\": \"barpolar\"}], \"carpet\": [{\"aaxis\": {\"endlinecolor\": \"#2a3f5f\", \"gridcolor\": \"white\", \"linecolor\": \"white\", \"minorgridcolor\": \"white\", \"startlinecolor\": \"#2a3f5f\"}, \"baxis\": {\"endlinecolor\": \"#2a3f5f\", \"gridcolor\": \"white\", \"linecolor\": \"white\", \"minorgridcolor\": \"white\", \"startlinecolor\": \"#2a3f5f\"}, \"type\": \"carpet\"}], \"choropleth\": [{\"colorbar\": {\"outlinewidth\": 0, \"ticks\": \"\"}, \"type\": \"choropleth\"}], \"contour\": [{\"colorbar\": {\"outlinewidth\": 0, \"ticks\": \"\"}, \"colorscale\": [[0.0, \"#0d0887\"], [0.1111111111111111, \"#46039f\"], [0.2222222222222222, \"#7201a8\"], [0.3333333333333333, \"#9c179e\"], [0.4444444444444444, \"#bd3786\"], [0.5555555555555556, \"#d8576b\"], [0.6666666666666666, \"#ed7953\"], [0.7777777777777778, \"#fb9f3a\"], [0.8888888888888888, \"#fdca26\"], [1.0, \"#f0f921\"]], \"type\": \"contour\"}], \"contourcarpet\": [{\"colorbar\": {\"outlinewidth\": 0, \"ticks\": \"\"}, \"type\": \"contourcarpet\"}], \"heatmap\": [{\"colorbar\": {\"outlinewidth\": 0, \"ticks\": \"\"}, \"colorscale\": [[0.0, \"#0d0887\"], [0.1111111111111111, \"#46039f\"], [0.2222222222222222, \"#7201a8\"], [0.3333333333333333, \"#9c179e\"], [0.4444444444444444, \"#bd3786\"], [0.5555555555555556, \"#d8576b\"], [0.6666666666666666, \"#ed7953\"], [0.7777777777777778, \"#fb9f3a\"], [0.8888888888888888, \"#fdca26\"], [1.0, \"#f0f921\"]], \"type\": \"heatmap\"}], \"heatmapgl\": [{\"colorbar\": {\"outlinewidth\": 0, \"ticks\": \"\"}, \"colorscale\": [[0.0, \"#0d0887\"], [0.1111111111111111, \"#46039f\"], [0.2222222222222222, \"#7201a8\"], [0.3333333333333333, \"#9c179e\"], [0.4444444444444444, \"#bd3786\"], [0.5555555555555556, \"#d8576b\"], [0.6666666666666666, \"#ed7953\"], [0.7777777777777778, \"#fb9f3a\"], [0.8888888888888888, \"#fdca26\"], [1.0, \"#f0f921\"]], \"type\": \"heatmapgl\"}], \"histogram\": [{\"marker\": {\"colorbar\": {\"outlinewidth\": 0, \"ticks\": \"\"}}, \"type\": \"histogram\"}], \"histogram2d\": [{\"colorbar\": {\"outlinewidth\": 0, \"ticks\": \"\"}, \"colorscale\": [[0.0, \"#0d0887\"], [0.1111111111111111, \"#46039f\"], [0.2222222222222222, \"#7201a8\"], [0.3333333333333333, \"#9c179e\"], [0.4444444444444444, \"#bd3786\"], [0.5555555555555556, \"#d8576b\"], [0.6666666666666666, \"#ed7953\"], [0.7777777777777778, \"#fb9f3a\"], [0.8888888888888888, \"#fdca26\"], [1.0, \"#f0f921\"]], \"type\": \"histogram2d\"}], \"histogram2dcontour\": [{\"colorbar\": {\"outlinewidth\": 0, \"ticks\": \"\"}, \"colorscale\": [[0.0, \"#0d0887\"], [0.1111111111111111, \"#46039f\"], [0.2222222222222222, \"#7201a8\"], [0.3333333333333333, \"#9c179e\"], [0.4444444444444444, \"#bd3786\"], [0.5555555555555556, \"#d8576b\"], [0.6666666666666666, \"#ed7953\"], [0.7777777777777778, \"#fb9f3a\"], [0.8888888888888888, \"#fdca26\"], [1.0, \"#f0f921\"]], \"type\": \"histogram2dcontour\"}], \"mesh3d\": [{\"colorbar\": {\"outlinewidth\": 0, \"ticks\": \"\"}, \"type\": \"mesh3d\"}], \"parcoords\": [{\"line\": {\"colorbar\": {\"outlinewidth\": 0, \"ticks\": \"\"}}, \"type\": \"parcoords\"}], \"pie\": [{\"automargin\": true, \"type\": \"pie\"}], \"scatter\": [{\"marker\": {\"colorbar\": {\"outlinewidth\": 0, \"ticks\": \"\"}}, \"type\": \"scatter\"}], \"scatter3d\": [{\"line\": {\"colorbar\": {\"outlinewidth\": 0, \"ticks\": \"\"}}, \"marker\": {\"colorbar\": {\"outlinewidth\": 0, \"ticks\": \"\"}}, \"type\": \"scatter3d\"}], \"scattercarpet\": [{\"marker\": {\"colorbar\": {\"outlinewidth\": 0, \"ticks\": \"\"}}, \"type\": \"scattercarpet\"}], \"scattergeo\": [{\"marker\": {\"colorbar\": {\"outlinewidth\": 0, \"ticks\": \"\"}}, \"type\": \"scattergeo\"}], \"scattergl\": [{\"marker\": {\"colorbar\": {\"outlinewidth\": 0, \"ticks\": \"\"}}, \"type\": \"scattergl\"}], \"scattermapbox\": [{\"marker\": {\"colorbar\": {\"outlinewidth\": 0, \"ticks\": \"\"}}, \"type\": \"scattermapbox\"}], \"scatterpolar\": [{\"marker\": {\"colorbar\": {\"outlinewidth\": 0, \"ticks\": \"\"}}, \"type\": \"scatterpolar\"}], \"scatterpolargl\": [{\"marker\": {\"colorbar\": {\"outlinewidth\": 0, \"ticks\": \"\"}}, \"type\": \"scatterpolargl\"}], \"scatterternary\": [{\"marker\": {\"colorbar\": {\"outlinewidth\": 0, \"ticks\": \"\"}}, \"type\": \"scatterternary\"}], \"surface\": [{\"colorbar\": {\"outlinewidth\": 0, \"ticks\": \"\"}, \"colorscale\": [[0.0, \"#0d0887\"], [0.1111111111111111, \"#46039f\"], [0.2222222222222222, \"#7201a8\"], [0.3333333333333333, \"#9c179e\"], [0.4444444444444444, \"#bd3786\"], [0.5555555555555556, \"#d8576b\"], [0.6666666666666666, \"#ed7953\"], [0.7777777777777778, \"#fb9f3a\"], [0.8888888888888888, \"#fdca26\"], [1.0, \"#f0f921\"]], \"type\": \"surface\"}], \"table\": [{\"cells\": {\"fill\": {\"color\": \"#EBF0F8\"}, \"line\": {\"color\": \"white\"}}, \"header\": {\"fill\": {\"color\": \"#C8D4E3\"}, \"line\": {\"color\": \"white\"}}, \"type\": \"table\"}]}, \"layout\": {\"annotationdefaults\": {\"arrowcolor\": \"#2a3f5f\", \"arrowhead\": 0, \"arrowwidth\": 1}, \"autotypenumbers\": \"strict\", \"coloraxis\": {\"colorbar\": {\"outlinewidth\": 0, \"ticks\": \"\"}}, \"colorscale\": {\"diverging\": [[0, \"#8e0152\"], [0.1, \"#c51b7d\"], [0.2, \"#de77ae\"], [0.3, \"#f1b6da\"], [0.4, \"#fde0ef\"], [0.5, \"#f7f7f7\"], [0.6, \"#e6f5d0\"], [0.7, \"#b8e186\"], [0.8, \"#7fbc41\"], [0.9, \"#4d9221\"], [1, \"#276419\"]], \"sequential\": [[0.0, \"#0d0887\"], [0.1111111111111111, \"#46039f\"], [0.2222222222222222, \"#7201a8\"], [0.3333333333333333, \"#9c179e\"], [0.4444444444444444, \"#bd3786\"], [0.5555555555555556, \"#d8576b\"], [0.6666666666666666, \"#ed7953\"], [0.7777777777777778, \"#fb9f3a\"], [0.8888888888888888, \"#fdca26\"], [1.0, \"#f0f921\"]], \"sequentialminus\": [[0.0, \"#0d0887\"], [0.1111111111111111, \"#46039f\"], [0.2222222222222222, \"#7201a8\"], [0.3333333333333333, \"#9c179e\"], [0.4444444444444444, \"#bd3786\"], [0.5555555555555556, \"#d8576b\"], [0.6666666666666666, \"#ed7953\"], [0.7777777777777778, \"#fb9f3a\"], [0.8888888888888888, \"#fdca26\"], [1.0, \"#f0f921\"]]}, \"colorway\": [\"#636efa\", \"#EF553B\", \"#00cc96\", \"#ab63fa\", \"#FFA15A\", \"#19d3f3\", \"#FF6692\", \"#B6E880\", \"#FF97FF\", \"#FECB52\"], \"font\": {\"color\": \"#2a3f5f\"}, \"geo\": {\"bgcolor\": \"white\", \"lakecolor\": \"white\", \"landcolor\": \"#E5ECF6\", \"showlakes\": true, \"showland\": true, \"subunitcolor\": \"white\"}, \"hoverlabel\": {\"align\": \"left\"}, \"hovermode\": \"closest\", \"mapbox\": {\"style\": \"light\"}, \"paper_bgcolor\": \"white\", \"plot_bgcolor\": \"#E5ECF6\", \"polar\": {\"angularaxis\": {\"gridcolor\": \"white\", \"linecolor\": \"white\", \"ticks\": \"\"}, \"bgcolor\": \"#E5ECF6\", \"radialaxis\": {\"gridcolor\": \"white\", \"linecolor\": \"white\", \"ticks\": \"\"}}, \"scene\": {\"xaxis\": {\"backgroundcolor\": \"#E5ECF6\", \"gridcolor\": \"white\", \"gridwidth\": 2, \"linecolor\": \"white\", \"showbackground\": true, \"ticks\": \"\", \"zerolinecolor\": \"white\"}, \"yaxis\": {\"backgroundcolor\": \"#E5ECF6\", \"gridcolor\": \"white\", \"gridwidth\": 2, \"linecolor\": \"white\", \"showbackground\": true, \"ticks\": \"\", \"zerolinecolor\": \"white\"}, \"zaxis\": {\"backgroundcolor\": \"#E5ECF6\", \"gridcolor\": \"white\", \"gridwidth\": 2, \"linecolor\": \"white\", \"showbackground\": true, \"ticks\": \"\", \"zerolinecolor\": \"white\"}}, \"shapedefaults\": {\"line\": {\"color\": \"#2a3f5f\"}}, \"ternary\": {\"aaxis\": {\"gridcolor\": \"white\", \"linecolor\": \"white\", \"ticks\": \"\"}, \"baxis\": {\"gridcolor\": \"white\", \"linecolor\": \"white\", \"ticks\": \"\"}, \"bgcolor\": \"#E5ECF6\", \"caxis\": {\"gridcolor\": \"white\", \"linecolor\": \"white\", \"ticks\": \"\"}}, \"title\": {\"x\": 0.05}, \"xaxis\": {\"automargin\": true, \"gridcolor\": \"white\", \"linecolor\": \"white\", \"ticks\": \"\", \"title\": {\"standoff\": 15}, \"zerolinecolor\": \"white\", \"zerolinewidth\": 2}, \"yaxis\": {\"automargin\": true, \"gridcolor\": \"white\", \"linecolor\": \"white\", \"ticks\": \"\", \"title\": {\"standoff\": 15}, \"zerolinecolor\": \"white\", \"zerolinewidth\": 2}}}, \"title\": {\"text\": \"Distribution of Merchandise Purchased per Purchase Order\"}},                        {\"responsive\": true}                    ).then(function(){\n",
       "                            \n",
       "var gd = document.getElementById('d2230098-4f36-4026-b9ac-7acf11c8473a');\n",
       "var x = new MutationObserver(function (mutations, observer) {{\n",
       "        var display = window.getComputedStyle(gd).display;\n",
       "        if (!display || display === 'none') {{\n",
       "            console.log([gd, 'removed!']);\n",
       "            Plotly.purge(gd);\n",
       "            observer.disconnect();\n",
       "        }}\n",
       "}});\n",
       "\n",
       "// Listen for the removal of the full notebook cells\n",
       "var notebookContainer = gd.closest('#notebook-container');\n",
       "if (notebookContainer) {{\n",
       "    x.observe(notebookContainer, {childList: true});\n",
       "}}\n",
       "\n",
       "// Listen for the clearing of the current output cell\n",
       "var outputEl = gd.closest('.output');\n",
       "if (outputEl) {{\n",
       "    x.observe(outputEl, {childList: true});\n",
       "}}\n",
       "\n",
       "                        })                };                });            </script>        </div>"
      ]
     },
     "metadata": {},
     "output_type": "display_data"
    }
   ],
   "source": [
    "fig = go.Figure(data=[go.Histogram(x=df['MPPO'],\n",
    "                                  xbins=dict(size=10000.0),)])\n",
    "\n",
    "fig.update_layout(title_text='Distribution of Merchandise Purchased per Purchase Order')\n",
    "    \n",
    "    \n",
    "fig.show()"
   ]
  },
  {
   "cell_type": "code",
   "execution_count": 31,
   "id": "9d7f8aff",
   "metadata": {},
   "outputs": [
    {
     "data": {
      "text/plain": [
       "6"
      ]
     },
     "execution_count": 31,
     "metadata": {},
     "output_type": "execute_result"
    }
   ],
   "source": [
    "np.sum(df['MPPO']<20000)"
   ]
  },
  {
   "cell_type": "code",
   "execution_count": 32,
   "id": "84991b73",
   "metadata": {},
   "outputs": [
    {
     "data": {
      "text/plain": [
       "2"
      ]
     },
     "execution_count": 32,
     "metadata": {},
     "output_type": "execute_result"
    }
   ],
   "source": [
    "np.sum(df['MPPO']<10000)"
   ]
  },
  {
   "cell_type": "markdown",
   "id": "4f0db0f3",
   "metadata": {},
   "source": [
    "The target for all stores is to be more than 20,000 USD of merchandise per purchase order. In order to implement this change reasonably, stores should increase their average MP/PO by 15% every 4 months if the MP/PO rate is less than the 20,000 USD rate and 20% if less than the 10,000 USD rate."
   ]
  },
  {
   "cell_type": "code",
   "execution_count": 33,
   "id": "60db5956",
   "metadata": {},
   "outputs": [],
   "source": [
    "df['Orders1'] = df['PurchaseOrders']\n",
    "df.loc[df['MPPO']<20000,'Orders1']=round(df['MerchandisePurchased']/(df['MPPO']*1.15))\n",
    "df.loc[df['MPPO']<10000,'Orders1']=round(df['MerchandisePurchased']/(df['MPPO']*1.2))\n",
    "df['OrdersRed1'] = df['PurchaseOrders']-df['Orders1']\n",
    "df['MPPO1']=df['MerchandisePurchased']/df['Orders1']\n",
    "\n",
    "\n",
    "df['Orders2'] = df['Orders1']\n",
    "df.loc[df['MPPO1']<20000,'Orders2']=round(df['MerchandisePurchased']/(df['MPPO1']*1.15))\n",
    "df.loc[df['MPPO1']<10000,'Orders2']=round(df['MerchandisePurchased']/(df['MPPO1']*1.2))\n",
    "df['OrdersRed2'] = df['Orders1']-df['Orders2']\n",
    "df['MPPO2']=df['MerchandisePurchased']/df['Orders2']\n",
    "\n",
    "df['Orders3'] = df['Orders2']\n",
    "df.loc[df['MPPO2']<20000,'Orders3']=round(df['MerchandisePurchased']/(df['MPPO2']*1.15))\n",
    "df.loc[df['MPPO2']<10000,'Orders3']=round(df['MerchandisePurchased']/(df['MPPO2']*1.2))\n",
    "df['OrdersRed3'] = df['Orders2']-df['Orders3']\n",
    "df['MPPO3']=df['MerchandisePurchased']/df['Orders3']"
   ]
  },
  {
   "cell_type": "code",
   "execution_count": 34,
   "id": "ca5200f1",
   "metadata": {},
   "outputs": [],
   "source": [
    "df['FinalOrderTarget'] = df['PurchaseOrders']\n",
    "df.loc[df['MPPO']<20000,'FinalOrderTarget']=np.floor(df['MerchandisePurchased']/20000)\n",
    "\n",
    "df['FinalOrderRed']= df['PurchaseOrders']  - df['FinalOrderTarget']\n"
   ]
  },
  {
   "cell_type": "code",
   "execution_count": 35,
   "id": "340753ac",
   "metadata": {},
   "outputs": [
    {
     "data": {
      "text/html": [
       "<div>\n",
       "<style scoped>\n",
       "    .dataframe tbody tr th:only-of-type {\n",
       "        vertical-align: middle;\n",
       "    }\n",
       "\n",
       "    .dataframe tbody tr th {\n",
       "        vertical-align: top;\n",
       "    }\n",
       "\n",
       "    .dataframe thead th {\n",
       "        text-align: right;\n",
       "    }\n",
       "</style>\n",
       "<table border=\"1\" class=\"dataframe\">\n",
       "  <thead>\n",
       "    <tr style=\"text-align: right;\">\n",
       "      <th></th>\n",
       "      <th>StoreLocation</th>\n",
       "      <th>PurchasingDeptCost</th>\n",
       "      <th>MerchandisePurchased</th>\n",
       "      <th>PurchaseOrders</th>\n",
       "      <th>Suppliers</th>\n",
       "      <th>SuppliersReduction</th>\n",
       "      <th>SuppliersReductionPerc</th>\n",
       "      <th>SuppliersReduction1</th>\n",
       "      <th>MPPO</th>\n",
       "      <th>Orders1</th>\n",
       "      <th>OrdersRed1</th>\n",
       "      <th>MPPO1</th>\n",
       "      <th>Orders2</th>\n",
       "      <th>OrdersRed2</th>\n",
       "      <th>MPPO2</th>\n",
       "      <th>Orders3</th>\n",
       "      <th>OrdersRed3</th>\n",
       "      <th>MPPO3</th>\n",
       "      <th>FinalOrderTarget</th>\n",
       "      <th>FinalOrderRed</th>\n",
       "    </tr>\n",
       "  </thead>\n",
       "  <tbody>\n",
       "    <tr>\n",
       "      <th>18</th>\n",
       "      <td>Nashville</td>\n",
       "      <td>1634000</td>\n",
       "      <td>36322000</td>\n",
       "      <td>5293</td>\n",
       "      <td>172</td>\n",
       "      <td>47</td>\n",
       "      <td>27.325581</td>\n",
       "      <td>26.0</td>\n",
       "      <td>6862.270924</td>\n",
       "      <td>4411.0</td>\n",
       "      <td>882.0</td>\n",
       "      <td>8234.413965</td>\n",
       "      <td>3676.0</td>\n",
       "      <td>735.0</td>\n",
       "      <td>9880.848749</td>\n",
       "      <td>3063.0</td>\n",
       "      <td>613.0</td>\n",
       "      <td>11858.308848</td>\n",
       "      <td>1816.0</td>\n",
       "      <td>3477.0</td>\n",
       "    </tr>\n",
       "    <tr>\n",
       "      <th>16</th>\n",
       "      <td>Austin</td>\n",
       "      <td>1134000</td>\n",
       "      <td>38542000</td>\n",
       "      <td>5115</td>\n",
       "      <td>51</td>\n",
       "      <td>0</td>\n",
       "      <td>0.000000</td>\n",
       "      <td>0.0</td>\n",
       "      <td>7535.092864</td>\n",
       "      <td>4262.0</td>\n",
       "      <td>853.0</td>\n",
       "      <td>9043.172220</td>\n",
       "      <td>3552.0</td>\n",
       "      <td>710.0</td>\n",
       "      <td>10850.788288</td>\n",
       "      <td>3089.0</td>\n",
       "      <td>463.0</td>\n",
       "      <td>12477.177080</td>\n",
       "      <td>1927.0</td>\n",
       "      <td>3188.0</td>\n",
       "    </tr>\n",
       "    <tr>\n",
       "      <th>9</th>\n",
       "      <td>Albuquerque</td>\n",
       "      <td>2030000</td>\n",
       "      <td>62364000</td>\n",
       "      <td>5497</td>\n",
       "      <td>176</td>\n",
       "      <td>51</td>\n",
       "      <td>28.977273</td>\n",
       "      <td>26.0</td>\n",
       "      <td>11345.097326</td>\n",
       "      <td>4780.0</td>\n",
       "      <td>717.0</td>\n",
       "      <td>13046.861925</td>\n",
       "      <td>4157.0</td>\n",
       "      <td>623.0</td>\n",
       "      <td>15002.165023</td>\n",
       "      <td>3615.0</td>\n",
       "      <td>542.0</td>\n",
       "      <td>17251.452282</td>\n",
       "      <td>3118.0</td>\n",
       "      <td>2379.0</td>\n",
       "    </tr>\n",
       "    <tr>\n",
       "      <th>20</th>\n",
       "      <td>Indianapolis</td>\n",
       "      <td>875000</td>\n",
       "      <td>31920000</td>\n",
       "      <td>2425</td>\n",
       "      <td>48</td>\n",
       "      <td>0</td>\n",
       "      <td>0.000000</td>\n",
       "      <td>0.0</td>\n",
       "      <td>13162.886598</td>\n",
       "      <td>2109.0</td>\n",
       "      <td>316.0</td>\n",
       "      <td>15135.135135</td>\n",
       "      <td>1834.0</td>\n",
       "      <td>275.0</td>\n",
       "      <td>17404.580153</td>\n",
       "      <td>1595.0</td>\n",
       "      <td>239.0</td>\n",
       "      <td>20012.539185</td>\n",
       "      <td>1596.0</td>\n",
       "      <td>829.0</td>\n",
       "    </tr>\n",
       "    <tr>\n",
       "      <th>10</th>\n",
       "      <td>Tucson</td>\n",
       "      <td>1338000</td>\n",
       "      <td>65635000</td>\n",
       "      <td>4347</td>\n",
       "      <td>130</td>\n",
       "      <td>5</td>\n",
       "      <td>3.846154</td>\n",
       "      <td>5.0</td>\n",
       "      <td>15098.918795</td>\n",
       "      <td>3780.0</td>\n",
       "      <td>567.0</td>\n",
       "      <td>17363.756614</td>\n",
       "      <td>3287.0</td>\n",
       "      <td>493.0</td>\n",
       "      <td>19968.055978</td>\n",
       "      <td>2858.0</td>\n",
       "      <td>429.0</td>\n",
       "      <td>22965.360392</td>\n",
       "      <td>3281.0</td>\n",
       "      <td>1066.0</td>\n",
       "    </tr>\n",
       "    <tr>\n",
       "      <th>4</th>\n",
       "      <td>Omaha</td>\n",
       "      <td>1544000</td>\n",
       "      <td>51466000</td>\n",
       "      <td>2883</td>\n",
       "      <td>155</td>\n",
       "      <td>30</td>\n",
       "      <td>19.354839</td>\n",
       "      <td>23.0</td>\n",
       "      <td>17851.543531</td>\n",
       "      <td>2507.0</td>\n",
       "      <td>376.0</td>\n",
       "      <td>20528.919027</td>\n",
       "      <td>2507.0</td>\n",
       "      <td>0.0</td>\n",
       "      <td>20528.919027</td>\n",
       "      <td>2507.0</td>\n",
       "      <td>0.0</td>\n",
       "      <td>20528.919027</td>\n",
       "      <td>2573.0</td>\n",
       "      <td>310.0</td>\n",
       "    </tr>\n",
       "    <tr>\n",
       "      <th>15</th>\n",
       "      <td>San Antonio</td>\n",
       "      <td>952000</td>\n",
       "      <td>59437000</td>\n",
       "      <td>2822</td>\n",
       "      <td>105</td>\n",
       "      <td>0</td>\n",
       "      <td>0.000000</td>\n",
       "      <td>0.0</td>\n",
       "      <td>21062.012757</td>\n",
       "      <td>2822.0</td>\n",
       "      <td>0.0</td>\n",
       "      <td>21062.012757</td>\n",
       "      <td>2822.0</td>\n",
       "      <td>0.0</td>\n",
       "      <td>21062.012757</td>\n",
       "      <td>2822.0</td>\n",
       "      <td>0.0</td>\n",
       "      <td>21062.012757</td>\n",
       "      <td>2822.0</td>\n",
       "      <td>0.0</td>\n",
       "    </tr>\n",
       "    <tr>\n",
       "      <th>7</th>\n",
       "      <td>Phoenix</td>\n",
       "      <td>794000</td>\n",
       "      <td>103464000</td>\n",
       "      <td>3761</td>\n",
       "      <td>117</td>\n",
       "      <td>0</td>\n",
       "      <td>0.000000</td>\n",
       "      <td>0.0</td>\n",
       "      <td>27509.704866</td>\n",
       "      <td>3761.0</td>\n",
       "      <td>0.0</td>\n",
       "      <td>27509.704866</td>\n",
       "      <td>3761.0</td>\n",
       "      <td>0.0</td>\n",
       "      <td>27509.704866</td>\n",
       "      <td>3761.0</td>\n",
       "      <td>0.0</td>\n",
       "      <td>27509.704866</td>\n",
       "      <td>3761.0</td>\n",
       "      <td>0.0</td>\n",
       "    </tr>\n",
       "    <tr>\n",
       "      <th>0</th>\n",
       "      <td>Sheridan, WY</td>\n",
       "      <td>575000</td>\n",
       "      <td>47239000</td>\n",
       "      <td>1708</td>\n",
       "      <td>61</td>\n",
       "      <td>0</td>\n",
       "      <td>0.000000</td>\n",
       "      <td>0.0</td>\n",
       "      <td>27657.494145</td>\n",
       "      <td>1708.0</td>\n",
       "      <td>0.0</td>\n",
       "      <td>27657.494145</td>\n",
       "      <td>1708.0</td>\n",
       "      <td>0.0</td>\n",
       "      <td>27657.494145</td>\n",
       "      <td>1708.0</td>\n",
       "      <td>0.0</td>\n",
       "      <td>27657.494145</td>\n",
       "      <td>1708.0</td>\n",
       "      <td>0.0</td>\n",
       "    </tr>\n",
       "    <tr>\n",
       "      <th>6</th>\n",
       "      <td>Minneapolis</td>\n",
       "      <td>1341000</td>\n",
       "      <td>84753000</td>\n",
       "      <td>2978</td>\n",
       "      <td>103</td>\n",
       "      <td>0</td>\n",
       "      <td>0.000000</td>\n",
       "      <td>0.0</td>\n",
       "      <td>28459.704500</td>\n",
       "      <td>2978.0</td>\n",
       "      <td>0.0</td>\n",
       "      <td>28459.704500</td>\n",
       "      <td>2978.0</td>\n",
       "      <td>0.0</td>\n",
       "      <td>28459.704500</td>\n",
       "      <td>2978.0</td>\n",
       "      <td>0.0</td>\n",
       "      <td>28459.704500</td>\n",
       "      <td>2978.0</td>\n",
       "      <td>0.0</td>\n",
       "    </tr>\n",
       "    <tr>\n",
       "      <th>11</th>\n",
       "      <td>Houston</td>\n",
       "      <td>856000</td>\n",
       "      <td>88524000</td>\n",
       "      <td>2878</td>\n",
       "      <td>62</td>\n",
       "      <td>0</td>\n",
       "      <td>0.000000</td>\n",
       "      <td>0.0</td>\n",
       "      <td>30758.860320</td>\n",
       "      <td>2878.0</td>\n",
       "      <td>0.0</td>\n",
       "      <td>30758.860320</td>\n",
       "      <td>2878.0</td>\n",
       "      <td>0.0</td>\n",
       "      <td>30758.860320</td>\n",
       "      <td>2878.0</td>\n",
       "      <td>0.0</td>\n",
       "      <td>30758.860320</td>\n",
       "      <td>2878.0</td>\n",
       "      <td>0.0</td>\n",
       "    </tr>\n",
       "    <tr>\n",
       "      <th>19</th>\n",
       "      <td>Memphis</td>\n",
       "      <td>699000</td>\n",
       "      <td>34121000</td>\n",
       "      <td>967</td>\n",
       "      <td>34</td>\n",
       "      <td>0</td>\n",
       "      <td>0.000000</td>\n",
       "      <td>0.0</td>\n",
       "      <td>35285.418821</td>\n",
       "      <td>967.0</td>\n",
       "      <td>0.0</td>\n",
       "      <td>35285.418821</td>\n",
       "      <td>967.0</td>\n",
       "      <td>0.0</td>\n",
       "      <td>35285.418821</td>\n",
       "      <td>967.0</td>\n",
       "      <td>0.0</td>\n",
       "      <td>35285.418821</td>\n",
       "      <td>967.0</td>\n",
       "      <td>0.0</td>\n",
       "    </tr>\n",
       "    <tr>\n",
       "      <th>2</th>\n",
       "      <td>Salt Lake City</td>\n",
       "      <td>1710000</td>\n",
       "      <td>100162000</td>\n",
       "      <td>2506</td>\n",
       "      <td>139</td>\n",
       "      <td>14</td>\n",
       "      <td>10.071942</td>\n",
       "      <td>14.0</td>\n",
       "      <td>39968.874701</td>\n",
       "      <td>2506.0</td>\n",
       "      <td>0.0</td>\n",
       "      <td>39968.874701</td>\n",
       "      <td>2506.0</td>\n",
       "      <td>0.0</td>\n",
       "      <td>39968.874701</td>\n",
       "      <td>2506.0</td>\n",
       "      <td>0.0</td>\n",
       "      <td>39968.874701</td>\n",
       "      <td>2506.0</td>\n",
       "      <td>0.0</td>\n",
       "    </tr>\n",
       "    <tr>\n",
       "      <th>1</th>\n",
       "      <td>Denver</td>\n",
       "      <td>1226000</td>\n",
       "      <td>102364000</td>\n",
       "      <td>2519</td>\n",
       "      <td>95</td>\n",
       "      <td>0</td>\n",
       "      <td>0.000000</td>\n",
       "      <td>0.0</td>\n",
       "      <td>40636.760619</td>\n",
       "      <td>2519.0</td>\n",
       "      <td>0.0</td>\n",
       "      <td>40636.760619</td>\n",
       "      <td>2519.0</td>\n",
       "      <td>0.0</td>\n",
       "      <td>40636.760619</td>\n",
       "      <td>2519.0</td>\n",
       "      <td>0.0</td>\n",
       "      <td>40636.760619</td>\n",
       "      <td>2519.0</td>\n",
       "      <td>0.0</td>\n",
       "    </tr>\n",
       "    <tr>\n",
       "      <th>14</th>\n",
       "      <td>Dallas</td>\n",
       "      <td>1085000</td>\n",
       "      <td>105666000</td>\n",
       "      <td>2162</td>\n",
       "      <td>141</td>\n",
       "      <td>16</td>\n",
       "      <td>11.347518</td>\n",
       "      <td>16.0</td>\n",
       "      <td>48874.190564</td>\n",
       "      <td>2162.0</td>\n",
       "      <td>0.0</td>\n",
       "      <td>48874.190564</td>\n",
       "      <td>2162.0</td>\n",
       "      <td>0.0</td>\n",
       "      <td>48874.190564</td>\n",
       "      <td>2162.0</td>\n",
       "      <td>0.0</td>\n",
       "      <td>48874.190564</td>\n",
       "      <td>2162.0</td>\n",
       "      <td>0.0</td>\n",
       "    </tr>\n",
       "    <tr>\n",
       "      <th>13</th>\n",
       "      <td>Tulsa</td>\n",
       "      <td>863000</td>\n",
       "      <td>61638000</td>\n",
       "      <td>1247</td>\n",
       "      <td>145</td>\n",
       "      <td>20</td>\n",
       "      <td>13.793103</td>\n",
       "      <td>20.0</td>\n",
       "      <td>49429.029671</td>\n",
       "      <td>1247.0</td>\n",
       "      <td>0.0</td>\n",
       "      <td>49429.029671</td>\n",
       "      <td>1247.0</td>\n",
       "      <td>0.0</td>\n",
       "      <td>49429.029671</td>\n",
       "      <td>1247.0</td>\n",
       "      <td>0.0</td>\n",
       "      <td>49429.029671</td>\n",
       "      <td>1247.0</td>\n",
       "      <td>0.0</td>\n",
       "    </tr>\n",
       "    <tr>\n",
       "      <th>3</th>\n",
       "      <td>Kansas City</td>\n",
       "      <td>881000</td>\n",
       "      <td>95760000</td>\n",
       "      <td>1719</td>\n",
       "      <td>91</td>\n",
       "      <td>0</td>\n",
       "      <td>0.000000</td>\n",
       "      <td>0.0</td>\n",
       "      <td>55706.806283</td>\n",
       "      <td>1719.0</td>\n",
       "      <td>0.0</td>\n",
       "      <td>55706.806283</td>\n",
       "      <td>1719.0</td>\n",
       "      <td>0.0</td>\n",
       "      <td>55706.806283</td>\n",
       "      <td>1719.0</td>\n",
       "      <td>0.0</td>\n",
       "      <td>55706.806283</td>\n",
       "      <td>1719.0</td>\n",
       "      <td>0.0</td>\n",
       "    </tr>\n",
       "    <tr>\n",
       "      <th>5</th>\n",
       "      <td>Milwaukee</td>\n",
       "      <td>794000</td>\n",
       "      <td>50631000</td>\n",
       "      <td>647</td>\n",
       "      <td>75</td>\n",
       "      <td>0</td>\n",
       "      <td>0.000000</td>\n",
       "      <td>0.0</td>\n",
       "      <td>78255.023184</td>\n",
       "      <td>647.0</td>\n",
       "      <td>0.0</td>\n",
       "      <td>78255.023184</td>\n",
       "      <td>647.0</td>\n",
       "      <td>0.0</td>\n",
       "      <td>78255.023184</td>\n",
       "      <td>647.0</td>\n",
       "      <td>0.0</td>\n",
       "      <td>78255.023184</td>\n",
       "      <td>647.0</td>\n",
       "      <td>0.0</td>\n",
       "    </tr>\n",
       "    <tr>\n",
       "      <th>17</th>\n",
       "      <td>El Paso</td>\n",
       "      <td>1042000</td>\n",
       "      <td>33020000</td>\n",
       "      <td>382</td>\n",
       "      <td>131</td>\n",
       "      <td>6</td>\n",
       "      <td>4.580153</td>\n",
       "      <td>6.0</td>\n",
       "      <td>86439.790576</td>\n",
       "      <td>382.0</td>\n",
       "      <td>0.0</td>\n",
       "      <td>86439.790576</td>\n",
       "      <td>382.0</td>\n",
       "      <td>0.0</td>\n",
       "      <td>86439.790576</td>\n",
       "      <td>382.0</td>\n",
       "      <td>0.0</td>\n",
       "      <td>86439.790576</td>\n",
       "      <td>382.0</td>\n",
       "      <td>0.0</td>\n",
       "    </tr>\n",
       "    <tr>\n",
       "      <th>12</th>\n",
       "      <td>Oklahoma City</td>\n",
       "      <td>1122000</td>\n",
       "      <td>72645000</td>\n",
       "      <td>819</td>\n",
       "      <td>129</td>\n",
       "      <td>4</td>\n",
       "      <td>3.100775</td>\n",
       "      <td>4.0</td>\n",
       "      <td>88699.633700</td>\n",
       "      <td>819.0</td>\n",
       "      <td>0.0</td>\n",
       "      <td>88699.633700</td>\n",
       "      <td>819.0</td>\n",
       "      <td>0.0</td>\n",
       "      <td>88699.633700</td>\n",
       "      <td>819.0</td>\n",
       "      <td>0.0</td>\n",
       "      <td>88699.633700</td>\n",
       "      <td>819.0</td>\n",
       "      <td>0.0</td>\n",
       "    </tr>\n",
       "  </tbody>\n",
       "</table>\n",
       "</div>"
      ],
      "text/plain": [
       "     StoreLocation  PurchasingDeptCost  MerchandisePurchased  PurchaseOrders  \\\n",
       "18       Nashville             1634000              36322000            5293   \n",
       "16          Austin             1134000              38542000            5115   \n",
       "9      Albuquerque             2030000              62364000            5497   \n",
       "20    Indianapolis              875000              31920000            2425   \n",
       "10          Tucson             1338000              65635000            4347   \n",
       "4            Omaha             1544000              51466000            2883   \n",
       "15     San Antonio              952000              59437000            2822   \n",
       "7          Phoenix              794000             103464000            3761   \n",
       "0     Sheridan, WY              575000              47239000            1708   \n",
       "6      Minneapolis             1341000              84753000            2978   \n",
       "11         Houston              856000              88524000            2878   \n",
       "19         Memphis              699000              34121000             967   \n",
       "2   Salt Lake City             1710000             100162000            2506   \n",
       "1           Denver             1226000             102364000            2519   \n",
       "14          Dallas             1085000             105666000            2162   \n",
       "13           Tulsa              863000              61638000            1247   \n",
       "3      Kansas City              881000              95760000            1719   \n",
       "5        Milwaukee              794000              50631000             647   \n",
       "17         El Paso             1042000              33020000             382   \n",
       "12   Oklahoma City             1122000              72645000             819   \n",
       "\n",
       "    Suppliers  SuppliersReduction  SuppliersReductionPerc  \\\n",
       "18        172                  47               27.325581   \n",
       "16         51                   0                0.000000   \n",
       "9         176                  51               28.977273   \n",
       "20         48                   0                0.000000   \n",
       "10        130                   5                3.846154   \n",
       "4         155                  30               19.354839   \n",
       "15        105                   0                0.000000   \n",
       "7         117                   0                0.000000   \n",
       "0          61                   0                0.000000   \n",
       "6         103                   0                0.000000   \n",
       "11         62                   0                0.000000   \n",
       "19         34                   0                0.000000   \n",
       "2         139                  14               10.071942   \n",
       "1          95                   0                0.000000   \n",
       "14        141                  16               11.347518   \n",
       "13        145                  20               13.793103   \n",
       "3          91                   0                0.000000   \n",
       "5          75                   0                0.000000   \n",
       "17        131                   6                4.580153   \n",
       "12        129                   4                3.100775   \n",
       "\n",
       "    SuppliersReduction1          MPPO  Orders1  OrdersRed1         MPPO1  \\\n",
       "18                 26.0   6862.270924   4411.0       882.0   8234.413965   \n",
       "16                  0.0   7535.092864   4262.0       853.0   9043.172220   \n",
       "9                  26.0  11345.097326   4780.0       717.0  13046.861925   \n",
       "20                  0.0  13162.886598   2109.0       316.0  15135.135135   \n",
       "10                  5.0  15098.918795   3780.0       567.0  17363.756614   \n",
       "4                  23.0  17851.543531   2507.0       376.0  20528.919027   \n",
       "15                  0.0  21062.012757   2822.0         0.0  21062.012757   \n",
       "7                   0.0  27509.704866   3761.0         0.0  27509.704866   \n",
       "0                   0.0  27657.494145   1708.0         0.0  27657.494145   \n",
       "6                   0.0  28459.704500   2978.0         0.0  28459.704500   \n",
       "11                  0.0  30758.860320   2878.0         0.0  30758.860320   \n",
       "19                  0.0  35285.418821    967.0         0.0  35285.418821   \n",
       "2                  14.0  39968.874701   2506.0         0.0  39968.874701   \n",
       "1                   0.0  40636.760619   2519.0         0.0  40636.760619   \n",
       "14                 16.0  48874.190564   2162.0         0.0  48874.190564   \n",
       "13                 20.0  49429.029671   1247.0         0.0  49429.029671   \n",
       "3                   0.0  55706.806283   1719.0         0.0  55706.806283   \n",
       "5                   0.0  78255.023184    647.0         0.0  78255.023184   \n",
       "17                  6.0  86439.790576    382.0         0.0  86439.790576   \n",
       "12                  4.0  88699.633700    819.0         0.0  88699.633700   \n",
       "\n",
       "    Orders2  OrdersRed2         MPPO2  Orders3  OrdersRed3         MPPO3  \\\n",
       "18   3676.0       735.0   9880.848749   3063.0       613.0  11858.308848   \n",
       "16   3552.0       710.0  10850.788288   3089.0       463.0  12477.177080   \n",
       "9    4157.0       623.0  15002.165023   3615.0       542.0  17251.452282   \n",
       "20   1834.0       275.0  17404.580153   1595.0       239.0  20012.539185   \n",
       "10   3287.0       493.0  19968.055978   2858.0       429.0  22965.360392   \n",
       "4    2507.0         0.0  20528.919027   2507.0         0.0  20528.919027   \n",
       "15   2822.0         0.0  21062.012757   2822.0         0.0  21062.012757   \n",
       "7    3761.0         0.0  27509.704866   3761.0         0.0  27509.704866   \n",
       "0    1708.0         0.0  27657.494145   1708.0         0.0  27657.494145   \n",
       "6    2978.0         0.0  28459.704500   2978.0         0.0  28459.704500   \n",
       "11   2878.0         0.0  30758.860320   2878.0         0.0  30758.860320   \n",
       "19    967.0         0.0  35285.418821    967.0         0.0  35285.418821   \n",
       "2    2506.0         0.0  39968.874701   2506.0         0.0  39968.874701   \n",
       "1    2519.0         0.0  40636.760619   2519.0         0.0  40636.760619   \n",
       "14   2162.0         0.0  48874.190564   2162.0         0.0  48874.190564   \n",
       "13   1247.0         0.0  49429.029671   1247.0         0.0  49429.029671   \n",
       "3    1719.0         0.0  55706.806283   1719.0         0.0  55706.806283   \n",
       "5     647.0         0.0  78255.023184    647.0         0.0  78255.023184   \n",
       "17    382.0         0.0  86439.790576    382.0         0.0  86439.790576   \n",
       "12    819.0         0.0  88699.633700    819.0         0.0  88699.633700   \n",
       "\n",
       "    FinalOrderTarget  FinalOrderRed  \n",
       "18            1816.0         3477.0  \n",
       "16            1927.0         3188.0  \n",
       "9             3118.0         2379.0  \n",
       "20            1596.0          829.0  \n",
       "10            3281.0         1066.0  \n",
       "4             2573.0          310.0  \n",
       "15            2822.0            0.0  \n",
       "7             3761.0            0.0  \n",
       "0             1708.0            0.0  \n",
       "6             2978.0            0.0  \n",
       "11            2878.0            0.0  \n",
       "19             967.0            0.0  \n",
       "2             2506.0            0.0  \n",
       "1             2519.0            0.0  \n",
       "14            2162.0            0.0  \n",
       "13            1247.0            0.0  \n",
       "3             1719.0            0.0  \n",
       "5              647.0            0.0  \n",
       "17             382.0            0.0  \n",
       "12             819.0            0.0  "
      ]
     },
     "execution_count": 35,
     "metadata": {},
     "output_type": "execute_result"
    }
   ],
   "source": [
    "df.sort_values(by=['MPPO'])"
   ]
  },
  {
   "cell_type": "code",
   "execution_count": 36,
   "id": "5d2c93a3",
   "metadata": {},
   "outputs": [
    {
     "name": "stdout",
     "output_type": "stream",
     "text": [
      "After the first 4 months, purchase orders are reduced by 3711 per year\n",
      "After 8 months, purchase orders are additionally reduced by 2836 per year\n",
      "After 1 year, purchase orders are additionally reduced by 2286 per year\n"
     ]
    }
   ],
   "source": [
    "print('After the first 4 months, purchase orders are reduced by', round(np.sum(df['OrdersRed1'])), 'per year')\n",
    "print('After 8 months, purchase orders are additionally reduced by', round(np.sum(df['OrdersRed2'])), 'per year')\n",
    "print('After 1 year, purchase orders are additionally reduced by', round(np.sum(df['OrdersRed3'])), 'per year' )"
   ]
  },
  {
   "cell_type": "code",
   "execution_count": 37,
   "id": "01b049e5",
   "metadata": {},
   "outputs": [
    {
     "name": "stdout",
     "output_type": "stream",
     "text": [
      "The reduction in orders after 1 year would be 8833 per year, which results in estimated cost savings of 883300 USD per year.\n"
     ]
    }
   ],
   "source": [
    "print('The reduction in orders after 1 year would be',round(np.sum(df['OrdersRed1']))+round(np.sum(df['OrdersRed2']))+round(np.sum(df['OrdersRed3'])), 'per year, which results in estimated cost savings of',(round(np.sum(df['OrdersRed1']))+round(np.sum(df['OrdersRed2']))+round(np.sum(df['OrdersRed3'])))*100, 'USD per year.'  )"
   ]
  },
  {
   "cell_type": "code",
   "execution_count": 28,
   "id": "335feaae",
   "metadata": {},
   "outputs": [
    {
     "name": "stdout",
     "output_type": "stream",
     "text": [
      "If all stores achieve the target, the expected cost savings would be 1124900.0 USD per year.\n"
     ]
    }
   ],
   "source": [
    "print('If all stores achieve the target, the expected cost savings would be', np.sum(df['FinalOrderRed'])*100, 'USD per year.')"
   ]
  },
  {
   "cell_type": "markdown",
   "id": "6351ff9c",
   "metadata": {},
   "source": [
    "Using this model, purchase orders would be reduced by 3,711 orders in the first round (four-month period), purchase orders would be additionally reduced by 2,836 in the second round, and purchase orders would be additionally reduced by 2,286 orders in the third round. The estimated cost saving across after the first year is 883,300 USD per year. By the end of the year, three of the underachievers would have reached the target goal, and one more (Albuquerque) would shortly thereafter. The other two (Nashville and Austin) would have at least a few more rounds to go.\n",
    "\n",
    "When all stores reach the target, the yearly cost savings are 1,124,900 USD compared to the current state.\n",
    "\n",
    "Overall, Albuquerque, Nashville, Omaha, and Austin were the stores that struggled most with meeting the purchase order and supplier targets. To assist these stores in achieving the goals, they are matched in a mentor relationship with a successful store of similar size (merchandise purchased). Albuquerque is paired with Houston, Nashville is paired with Memphis, Omaha is paired with Milwaukee, and Austin is paired with El Paso. These mentors coach and encourage the weaker stores to achieve their targets ahead of time. (This is an example of a nonquantitative recommendation.)\n",
    "\n",
    "As with any performance targets, these goals are current targets that should be reevaluated regularly. Ultimately, there is a reasonable range of suppliers and average merchandise per purchase order. Too low of either of these will inhibit the business from functioning optimally."
   ]
  },
  {
   "cell_type": "markdown",
   "id": "99177887",
   "metadata": {},
   "source": [
    "[[Back to TOC]](#Table-of-Contents)"
   ]
  },
  {
   "cell_type": "markdown",
   "id": "0fa23793",
   "metadata": {},
   "source": []
  },
  {
   "cell_type": "code",
   "execution_count": null,
   "id": "d7d066df",
   "metadata": {},
   "outputs": [],
   "source": []
  }
 ],
 "metadata": {
  "kernelspec": {
   "display_name": "Python 3 (ipykernel)",
   "language": "python",
   "name": "python3"
  },
  "language_info": {
   "codemirror_mode": {
    "name": "ipython",
    "version": 3
   },
   "file_extension": ".py",
   "mimetype": "text/x-python",
   "name": "python",
   "nbconvert_exporter": "python",
   "pygments_lexer": "ipython3",
   "version": "3.9.7"
  }
 },
 "nbformat": 4,
 "nbformat_minor": 5
}
